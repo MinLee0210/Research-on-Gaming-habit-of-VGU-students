{
  "nbformat": 4,
  "nbformat_minor": 0,
  "metadata": {
    "colab": {
      "provenance": []
    },
    "kernelspec": {
      "name": "python3",
      "display_name": "Python 3"
    },
    "language_info": {
      "name": "python"
    },
    "accelerator": "GPU",
    "gpuClass": "standard"
  },
  "cells": [
    {
      "cell_type": "code",
      "execution_count": null,
      "metadata": {
        "id": "5CCH9iO7NyUS"
      },
      "outputs": [],
      "source": [
        "import pandas as pd\n",
        "import numpy as np\n",
        "import matplotlib.pyplot as plt\n",
        "import matplotlib.patheffects as PathEffects\n",
        "import seaborn as sns\n",
        "\n",
        "import scipy.cluster.hierarchy as shc\n",
        "\n",
        "from sklearn.cluster import AgglomerativeClustering\n",
        "from sklearn.preprocessing import MinMaxScaler\n",
        "from sklearn.preprocessing import Normalizer\n"
      ]
    },
    {
      "cell_type": "code",
      "source": [
        "!git clone https://github.com/MinLee0210/-VGU-HDDA-Survey-responses.git"
      ],
      "metadata": {
        "colab": {
          "base_uri": "https://localhost:8080/"
        },
        "id": "aRZ0uq9g-oIP",
        "outputId": "63c7dc8c-bfb7-47ac-e04b-47d3aa9e6d82"
      },
      "execution_count": null,
      "outputs": [
        {
          "output_type": "stream",
          "name": "stdout",
          "text": [
            "Cloning into '-VGU-HDDA-Survey-responses'...\n",
            "remote: Enumerating objects: 14, done.\u001b[K\n",
            "remote: Counting objects: 100% (14/14), done.\u001b[K\n",
            "remote: Compressing objects: 100% (9/9), done.\u001b[K\n",
            "remote: Total 14 (delta 4), reused 14 (delta 4), pack-reused 0\u001b[K\n",
            "Unpacking objects: 100% (14/14), done.\n"
          ]
        }
      ]
    },
    {
      "cell_type": "code",
      "source": [
        "df_path = '/content/-VGU-HDDA-Survey-responses/'\n",
        "df = pd.read_csv(df_path + 'survey_response.csv')\n",
        "df.head()"
      ],
      "metadata": {
        "colab": {
          "base_uri": "https://localhost:8080/",
          "height": 372
        },
        "id": "7RuJNBps_EDE",
        "outputId": "eb716434-34c9-4de7-ef9d-e8bbdefe15d2"
      },
      "execution_count": null,
      "outputs": [
        {
          "output_type": "execute_result",
          "data": {
            "text/plain": [
              "            Timestamp What is your gender?  \\\n",
              "0  12/9/2022 22:24:35                 Male   \n",
              "1  12/9/2022 22:29:04                 Male   \n",
              "2  12/9/2022 22:30:59                 Male   \n",
              "3  12/9/2022 22:31:40               Female   \n",
              "4  12/9/2022 22:48:42               Female   \n",
              "\n",
              "   Which year are you studying at university?  \\\n",
              "0                                           4   \n",
              "1                                           3   \n",
              "2                                           4   \n",
              "3                                           1   \n",
              "4                                           4   \n",
              "\n",
              "  How long do you usually play game in a day?  \\\n",
              "0                                  30 minutes   \n",
              "1                                      1 hour   \n",
              "2                                     3 hours   \n",
              "3                          30 minutes or less   \n",
              "4                          30 minutes or less   \n",
              "\n",
              "  What is the main reason you play games?  \\\n",
              "0                Connect with your friend   \n",
              "1                               Kill time   \n",
              "2                               Kill time   \n",
              "3                               Kill time   \n",
              "4                               Kill time   \n",
              "\n",
              "             What kind of games do you usually play?  \\\n",
              "0  Strategy    (LOL, Plant vs Zombie, Tower Defen...   \n",
              "1  RPG    (Elden Ring, God of War, Monster Hunter...   \n",
              "2  Survival horror    (Dead by daylight, The fore...   \n",
              "3  Simulation    (the Sims, Jurassic World , Fall...   \n",
              "4   Puzzle    (2048, Brainout, Escape Simulator,...)   \n",
              "\n",
              "  What device do you use to play game?  \\\n",
              "0                          PC / Laptop   \n",
              "1                              Console   \n",
              "2                          PC / Laptop   \n",
              "3                          PC / Laptop   \n",
              "4                         Mobile phone   \n",
              "\n",
              "  Do you prefer playing games alone or with friends?  \n",
              "0                                  Play with friends  \n",
              "1                                  Play with friends  \n",
              "2                                         Play alone  \n",
              "3                                         Play alone  \n",
              "4                                         Play alone  "
            ],
            "text/html": [
              "\n",
              "  <div id=\"df-b1d10859-492f-49fe-9972-96ba51389194\">\n",
              "    <div class=\"colab-df-container\">\n",
              "      <div>\n",
              "<style scoped>\n",
              "    .dataframe tbody tr th:only-of-type {\n",
              "        vertical-align: middle;\n",
              "    }\n",
              "\n",
              "    .dataframe tbody tr th {\n",
              "        vertical-align: top;\n",
              "    }\n",
              "\n",
              "    .dataframe thead th {\n",
              "        text-align: right;\n",
              "    }\n",
              "</style>\n",
              "<table border=\"1\" class=\"dataframe\">\n",
              "  <thead>\n",
              "    <tr style=\"text-align: right;\">\n",
              "      <th></th>\n",
              "      <th>Timestamp</th>\n",
              "      <th>What is your gender?</th>\n",
              "      <th>Which year are you studying at university?</th>\n",
              "      <th>How long do you usually play game in a day?</th>\n",
              "      <th>What is the main reason you play games?</th>\n",
              "      <th>What kind of games do you usually play?</th>\n",
              "      <th>What device do you use to play game?</th>\n",
              "      <th>Do you prefer playing games alone or with friends?</th>\n",
              "    </tr>\n",
              "  </thead>\n",
              "  <tbody>\n",
              "    <tr>\n",
              "      <th>0</th>\n",
              "      <td>12/9/2022 22:24:35</td>\n",
              "      <td>Male</td>\n",
              "      <td>4</td>\n",
              "      <td>30 minutes</td>\n",
              "      <td>Connect with your friend</td>\n",
              "      <td>Strategy    (LOL, Plant vs Zombie, Tower Defen...</td>\n",
              "      <td>PC / Laptop</td>\n",
              "      <td>Play with friends</td>\n",
              "    </tr>\n",
              "    <tr>\n",
              "      <th>1</th>\n",
              "      <td>12/9/2022 22:29:04</td>\n",
              "      <td>Male</td>\n",
              "      <td>3</td>\n",
              "      <td>1 hour</td>\n",
              "      <td>Kill time</td>\n",
              "      <td>RPG    (Elden Ring, God of War, Monster Hunter...</td>\n",
              "      <td>Console</td>\n",
              "      <td>Play with friends</td>\n",
              "    </tr>\n",
              "    <tr>\n",
              "      <th>2</th>\n",
              "      <td>12/9/2022 22:30:59</td>\n",
              "      <td>Male</td>\n",
              "      <td>4</td>\n",
              "      <td>3 hours</td>\n",
              "      <td>Kill time</td>\n",
              "      <td>Survival horror    (Dead by daylight, The fore...</td>\n",
              "      <td>PC / Laptop</td>\n",
              "      <td>Play alone</td>\n",
              "    </tr>\n",
              "    <tr>\n",
              "      <th>3</th>\n",
              "      <td>12/9/2022 22:31:40</td>\n",
              "      <td>Female</td>\n",
              "      <td>1</td>\n",
              "      <td>30 minutes or less</td>\n",
              "      <td>Kill time</td>\n",
              "      <td>Simulation    (the Sims, Jurassic World , Fall...</td>\n",
              "      <td>PC / Laptop</td>\n",
              "      <td>Play alone</td>\n",
              "    </tr>\n",
              "    <tr>\n",
              "      <th>4</th>\n",
              "      <td>12/9/2022 22:48:42</td>\n",
              "      <td>Female</td>\n",
              "      <td>4</td>\n",
              "      <td>30 minutes or less</td>\n",
              "      <td>Kill time</td>\n",
              "      <td>Puzzle    (2048, Brainout, Escape Simulator,...)</td>\n",
              "      <td>Mobile phone</td>\n",
              "      <td>Play alone</td>\n",
              "    </tr>\n",
              "  </tbody>\n",
              "</table>\n",
              "</div>\n",
              "      <button class=\"colab-df-convert\" onclick=\"convertToInteractive('df-b1d10859-492f-49fe-9972-96ba51389194')\"\n",
              "              title=\"Convert this dataframe to an interactive table.\"\n",
              "              style=\"display:none;\">\n",
              "        \n",
              "  <svg xmlns=\"http://www.w3.org/2000/svg\" height=\"24px\"viewBox=\"0 0 24 24\"\n",
              "       width=\"24px\">\n",
              "    <path d=\"M0 0h24v24H0V0z\" fill=\"none\"/>\n",
              "    <path d=\"M18.56 5.44l.94 2.06.94-2.06 2.06-.94-2.06-.94-.94-2.06-.94 2.06-2.06.94zm-11 1L8.5 8.5l.94-2.06 2.06-.94-2.06-.94L8.5 2.5l-.94 2.06-2.06.94zm10 10l.94 2.06.94-2.06 2.06-.94-2.06-.94-.94-2.06-.94 2.06-2.06.94z\"/><path d=\"M17.41 7.96l-1.37-1.37c-.4-.4-.92-.59-1.43-.59-.52 0-1.04.2-1.43.59L10.3 9.45l-7.72 7.72c-.78.78-.78 2.05 0 2.83L4 21.41c.39.39.9.59 1.41.59.51 0 1.02-.2 1.41-.59l7.78-7.78 2.81-2.81c.8-.78.8-2.07 0-2.86zM5.41 20L4 18.59l7.72-7.72 1.47 1.35L5.41 20z\"/>\n",
              "  </svg>\n",
              "      </button>\n",
              "      \n",
              "  <style>\n",
              "    .colab-df-container {\n",
              "      display:flex;\n",
              "      flex-wrap:wrap;\n",
              "      gap: 12px;\n",
              "    }\n",
              "\n",
              "    .colab-df-convert {\n",
              "      background-color: #E8F0FE;\n",
              "      border: none;\n",
              "      border-radius: 50%;\n",
              "      cursor: pointer;\n",
              "      display: none;\n",
              "      fill: #1967D2;\n",
              "      height: 32px;\n",
              "      padding: 0 0 0 0;\n",
              "      width: 32px;\n",
              "    }\n",
              "\n",
              "    .colab-df-convert:hover {\n",
              "      background-color: #E2EBFA;\n",
              "      box-shadow: 0px 1px 2px rgba(60, 64, 67, 0.3), 0px 1px 3px 1px rgba(60, 64, 67, 0.15);\n",
              "      fill: #174EA6;\n",
              "    }\n",
              "\n",
              "    [theme=dark] .colab-df-convert {\n",
              "      background-color: #3B4455;\n",
              "      fill: #D2E3FC;\n",
              "    }\n",
              "\n",
              "    [theme=dark] .colab-df-convert:hover {\n",
              "      background-color: #434B5C;\n",
              "      box-shadow: 0px 1px 3px 1px rgba(0, 0, 0, 0.15);\n",
              "      filter: drop-shadow(0px 1px 2px rgba(0, 0, 0, 0.3));\n",
              "      fill: #FFFFFF;\n",
              "    }\n",
              "  </style>\n",
              "\n",
              "      <script>\n",
              "        const buttonEl =\n",
              "          document.querySelector('#df-b1d10859-492f-49fe-9972-96ba51389194 button.colab-df-convert');\n",
              "        buttonEl.style.display =\n",
              "          google.colab.kernel.accessAllowed ? 'block' : 'none';\n",
              "\n",
              "        async function convertToInteractive(key) {\n",
              "          const element = document.querySelector('#df-b1d10859-492f-49fe-9972-96ba51389194');\n",
              "          const dataTable =\n",
              "            await google.colab.kernel.invokeFunction('convertToInteractive',\n",
              "                                                     [key], {});\n",
              "          if (!dataTable) return;\n",
              "\n",
              "          const docLinkHtml = 'Like what you see? Visit the ' +\n",
              "            '<a target=\"_blank\" href=https://colab.research.google.com/notebooks/data_table.ipynb>data table notebook</a>'\n",
              "            + ' to learn more about interactive tables.';\n",
              "          element.innerHTML = '';\n",
              "          dataTable['output_type'] = 'display_data';\n",
              "          await google.colab.output.renderOutput(dataTable, element);\n",
              "          const docLink = document.createElement('div');\n",
              "          docLink.innerHTML = docLinkHtml;\n",
              "          element.appendChild(docLink);\n",
              "        }\n",
              "      </script>\n",
              "    </div>\n",
              "  </div>\n",
              "  "
            ]
          },
          "metadata": {},
          "execution_count": 3
        }
      ]
    },
    {
      "cell_type": "code",
      "source": [
        "df = df.drop(['Timestamp'], axis=1)\n",
        "df.head()"
      ],
      "metadata": {
        "colab": {
          "base_uri": "https://localhost:8080/",
          "height": 354
        },
        "id": "GvTxd0jl_WC9",
        "outputId": "ba6b0f90-5181-4490-9a0c-c0ee82fa5eef"
      },
      "execution_count": null,
      "outputs": [
        {
          "output_type": "execute_result",
          "data": {
            "text/plain": [
              "  What is your gender?  Which year are you studying at university?  \\\n",
              "0                 Male                                           4   \n",
              "1                 Male                                           3   \n",
              "2                 Male                                           4   \n",
              "3               Female                                           1   \n",
              "4               Female                                           4   \n",
              "\n",
              "  How long do you usually play game in a day?  \\\n",
              "0                                  30 minutes   \n",
              "1                                      1 hour   \n",
              "2                                     3 hours   \n",
              "3                          30 minutes or less   \n",
              "4                          30 minutes or less   \n",
              "\n",
              "  What is the main reason you play games?  \\\n",
              "0                Connect with your friend   \n",
              "1                               Kill time   \n",
              "2                               Kill time   \n",
              "3                               Kill time   \n",
              "4                               Kill time   \n",
              "\n",
              "             What kind of games do you usually play?  \\\n",
              "0  Strategy    (LOL, Plant vs Zombie, Tower Defen...   \n",
              "1  RPG    (Elden Ring, God of War, Monster Hunter...   \n",
              "2  Survival horror    (Dead by daylight, The fore...   \n",
              "3  Simulation    (the Sims, Jurassic World , Fall...   \n",
              "4   Puzzle    (2048, Brainout, Escape Simulator,...)   \n",
              "\n",
              "  What device do you use to play game?  \\\n",
              "0                          PC / Laptop   \n",
              "1                              Console   \n",
              "2                          PC / Laptop   \n",
              "3                          PC / Laptop   \n",
              "4                         Mobile phone   \n",
              "\n",
              "  Do you prefer playing games alone or with friends?  \n",
              "0                                  Play with friends  \n",
              "1                                  Play with friends  \n",
              "2                                         Play alone  \n",
              "3                                         Play alone  \n",
              "4                                         Play alone  "
            ],
            "text/html": [
              "\n",
              "  <div id=\"df-f5e95671-54f5-416d-8544-778eecd0fafb\">\n",
              "    <div class=\"colab-df-container\">\n",
              "      <div>\n",
              "<style scoped>\n",
              "    .dataframe tbody tr th:only-of-type {\n",
              "        vertical-align: middle;\n",
              "    }\n",
              "\n",
              "    .dataframe tbody tr th {\n",
              "        vertical-align: top;\n",
              "    }\n",
              "\n",
              "    .dataframe thead th {\n",
              "        text-align: right;\n",
              "    }\n",
              "</style>\n",
              "<table border=\"1\" class=\"dataframe\">\n",
              "  <thead>\n",
              "    <tr style=\"text-align: right;\">\n",
              "      <th></th>\n",
              "      <th>What is your gender?</th>\n",
              "      <th>Which year are you studying at university?</th>\n",
              "      <th>How long do you usually play game in a day?</th>\n",
              "      <th>What is the main reason you play games?</th>\n",
              "      <th>What kind of games do you usually play?</th>\n",
              "      <th>What device do you use to play game?</th>\n",
              "      <th>Do you prefer playing games alone or with friends?</th>\n",
              "    </tr>\n",
              "  </thead>\n",
              "  <tbody>\n",
              "    <tr>\n",
              "      <th>0</th>\n",
              "      <td>Male</td>\n",
              "      <td>4</td>\n",
              "      <td>30 minutes</td>\n",
              "      <td>Connect with your friend</td>\n",
              "      <td>Strategy    (LOL, Plant vs Zombie, Tower Defen...</td>\n",
              "      <td>PC / Laptop</td>\n",
              "      <td>Play with friends</td>\n",
              "    </tr>\n",
              "    <tr>\n",
              "      <th>1</th>\n",
              "      <td>Male</td>\n",
              "      <td>3</td>\n",
              "      <td>1 hour</td>\n",
              "      <td>Kill time</td>\n",
              "      <td>RPG    (Elden Ring, God of War, Monster Hunter...</td>\n",
              "      <td>Console</td>\n",
              "      <td>Play with friends</td>\n",
              "    </tr>\n",
              "    <tr>\n",
              "      <th>2</th>\n",
              "      <td>Male</td>\n",
              "      <td>4</td>\n",
              "      <td>3 hours</td>\n",
              "      <td>Kill time</td>\n",
              "      <td>Survival horror    (Dead by daylight, The fore...</td>\n",
              "      <td>PC / Laptop</td>\n",
              "      <td>Play alone</td>\n",
              "    </tr>\n",
              "    <tr>\n",
              "      <th>3</th>\n",
              "      <td>Female</td>\n",
              "      <td>1</td>\n",
              "      <td>30 minutes or less</td>\n",
              "      <td>Kill time</td>\n",
              "      <td>Simulation    (the Sims, Jurassic World , Fall...</td>\n",
              "      <td>PC / Laptop</td>\n",
              "      <td>Play alone</td>\n",
              "    </tr>\n",
              "    <tr>\n",
              "      <th>4</th>\n",
              "      <td>Female</td>\n",
              "      <td>4</td>\n",
              "      <td>30 minutes or less</td>\n",
              "      <td>Kill time</td>\n",
              "      <td>Puzzle    (2048, Brainout, Escape Simulator,...)</td>\n",
              "      <td>Mobile phone</td>\n",
              "      <td>Play alone</td>\n",
              "    </tr>\n",
              "  </tbody>\n",
              "</table>\n",
              "</div>\n",
              "      <button class=\"colab-df-convert\" onclick=\"convertToInteractive('df-f5e95671-54f5-416d-8544-778eecd0fafb')\"\n",
              "              title=\"Convert this dataframe to an interactive table.\"\n",
              "              style=\"display:none;\">\n",
              "        \n",
              "  <svg xmlns=\"http://www.w3.org/2000/svg\" height=\"24px\"viewBox=\"0 0 24 24\"\n",
              "       width=\"24px\">\n",
              "    <path d=\"M0 0h24v24H0V0z\" fill=\"none\"/>\n",
              "    <path d=\"M18.56 5.44l.94 2.06.94-2.06 2.06-.94-2.06-.94-.94-2.06-.94 2.06-2.06.94zm-11 1L8.5 8.5l.94-2.06 2.06-.94-2.06-.94L8.5 2.5l-.94 2.06-2.06.94zm10 10l.94 2.06.94-2.06 2.06-.94-2.06-.94-.94-2.06-.94 2.06-2.06.94z\"/><path d=\"M17.41 7.96l-1.37-1.37c-.4-.4-.92-.59-1.43-.59-.52 0-1.04.2-1.43.59L10.3 9.45l-7.72 7.72c-.78.78-.78 2.05 0 2.83L4 21.41c.39.39.9.59 1.41.59.51 0 1.02-.2 1.41-.59l7.78-7.78 2.81-2.81c.8-.78.8-2.07 0-2.86zM5.41 20L4 18.59l7.72-7.72 1.47 1.35L5.41 20z\"/>\n",
              "  </svg>\n",
              "      </button>\n",
              "      \n",
              "  <style>\n",
              "    .colab-df-container {\n",
              "      display:flex;\n",
              "      flex-wrap:wrap;\n",
              "      gap: 12px;\n",
              "    }\n",
              "\n",
              "    .colab-df-convert {\n",
              "      background-color: #E8F0FE;\n",
              "      border: none;\n",
              "      border-radius: 50%;\n",
              "      cursor: pointer;\n",
              "      display: none;\n",
              "      fill: #1967D2;\n",
              "      height: 32px;\n",
              "      padding: 0 0 0 0;\n",
              "      width: 32px;\n",
              "    }\n",
              "\n",
              "    .colab-df-convert:hover {\n",
              "      background-color: #E2EBFA;\n",
              "      box-shadow: 0px 1px 2px rgba(60, 64, 67, 0.3), 0px 1px 3px 1px rgba(60, 64, 67, 0.15);\n",
              "      fill: #174EA6;\n",
              "    }\n",
              "\n",
              "    [theme=dark] .colab-df-convert {\n",
              "      background-color: #3B4455;\n",
              "      fill: #D2E3FC;\n",
              "    }\n",
              "\n",
              "    [theme=dark] .colab-df-convert:hover {\n",
              "      background-color: #434B5C;\n",
              "      box-shadow: 0px 1px 3px 1px rgba(0, 0, 0, 0.15);\n",
              "      filter: drop-shadow(0px 1px 2px rgba(0, 0, 0, 0.3));\n",
              "      fill: #FFFFFF;\n",
              "    }\n",
              "  </style>\n",
              "\n",
              "      <script>\n",
              "        const buttonEl =\n",
              "          document.querySelector('#df-f5e95671-54f5-416d-8544-778eecd0fafb button.colab-df-convert');\n",
              "        buttonEl.style.display =\n",
              "          google.colab.kernel.accessAllowed ? 'block' : 'none';\n",
              "\n",
              "        async function convertToInteractive(key) {\n",
              "          const element = document.querySelector('#df-f5e95671-54f5-416d-8544-778eecd0fafb');\n",
              "          const dataTable =\n",
              "            await google.colab.kernel.invokeFunction('convertToInteractive',\n",
              "                                                     [key], {});\n",
              "          if (!dataTable) return;\n",
              "\n",
              "          const docLinkHtml = 'Like what you see? Visit the ' +\n",
              "            '<a target=\"_blank\" href=https://colab.research.google.com/notebooks/data_table.ipynb>data table notebook</a>'\n",
              "            + ' to learn more about interactive tables.';\n",
              "          element.innerHTML = '';\n",
              "          dataTable['output_type'] = 'display_data';\n",
              "          await google.colab.output.renderOutput(dataTable, element);\n",
              "          const docLink = document.createElement('div');\n",
              "          docLink.innerHTML = docLinkHtml;\n",
              "          element.appendChild(docLink);\n",
              "        }\n",
              "      </script>\n",
              "    </div>\n",
              "  </div>\n",
              "  "
            ]
          },
          "metadata": {},
          "execution_count": 4
        }
      ]
    },
    {
      "cell_type": "code",
      "source": [
        "features ={\n",
        "    \"What is your gender?\": \"Gender\", \n",
        "    \"Which year are you studying at university?\": \"Year of Studying\", \n",
        "    \"How long do you usually play game in a day?\": \"Operating time per day\", \n",
        "    \"What is the main reason you play games?\": \"Reason\",\n",
        "    \"What kind of games do you usually play?\": \"Category\",\n",
        "    \"What device do you use to play game?\": \"Device\",\n",
        "    \"Do you prefer playing games alone or with friends?\": \"Alone/Friend\"\n",
        "}\n",
        "df = df.rename(columns = features)\n",
        "df.head()"
      ],
      "metadata": {
        "colab": {
          "base_uri": "https://localhost:8080/",
          "height": 206
        },
        "id": "FdmAGsmQ_jRG",
        "outputId": "24e6bf7a-a686-4d9e-cac6-987242cae67d"
      },
      "execution_count": null,
      "outputs": [
        {
          "output_type": "execute_result",
          "data": {
            "text/plain": [
              "   Gender  Year of Studying Operating time per day                    Reason  \\\n",
              "0    Male                 4             30 minutes  Connect with your friend   \n",
              "1    Male                 3                 1 hour                 Kill time   \n",
              "2    Male                 4                3 hours                 Kill time   \n",
              "3  Female                 1     30 minutes or less                 Kill time   \n",
              "4  Female                 4     30 minutes or less                 Kill time   \n",
              "\n",
              "                                            Category        Device  \\\n",
              "0  Strategy    (LOL, Plant vs Zombie, Tower Defen...   PC / Laptop   \n",
              "1  RPG    (Elden Ring, God of War, Monster Hunter...       Console   \n",
              "2  Survival horror    (Dead by daylight, The fore...   PC / Laptop   \n",
              "3  Simulation    (the Sims, Jurassic World , Fall...   PC / Laptop   \n",
              "4   Puzzle    (2048, Brainout, Escape Simulator,...)  Mobile phone   \n",
              "\n",
              "        Alone/Friend  \n",
              "0  Play with friends  \n",
              "1  Play with friends  \n",
              "2         Play alone  \n",
              "3         Play alone  \n",
              "4         Play alone  "
            ],
            "text/html": [
              "\n",
              "  <div id=\"df-fd1d4735-32bf-41ca-b964-8674780b3cbd\">\n",
              "    <div class=\"colab-df-container\">\n",
              "      <div>\n",
              "<style scoped>\n",
              "    .dataframe tbody tr th:only-of-type {\n",
              "        vertical-align: middle;\n",
              "    }\n",
              "\n",
              "    .dataframe tbody tr th {\n",
              "        vertical-align: top;\n",
              "    }\n",
              "\n",
              "    .dataframe thead th {\n",
              "        text-align: right;\n",
              "    }\n",
              "</style>\n",
              "<table border=\"1\" class=\"dataframe\">\n",
              "  <thead>\n",
              "    <tr style=\"text-align: right;\">\n",
              "      <th></th>\n",
              "      <th>Gender</th>\n",
              "      <th>Year of Studying</th>\n",
              "      <th>Operating time per day</th>\n",
              "      <th>Reason</th>\n",
              "      <th>Category</th>\n",
              "      <th>Device</th>\n",
              "      <th>Alone/Friend</th>\n",
              "    </tr>\n",
              "  </thead>\n",
              "  <tbody>\n",
              "    <tr>\n",
              "      <th>0</th>\n",
              "      <td>Male</td>\n",
              "      <td>4</td>\n",
              "      <td>30 minutes</td>\n",
              "      <td>Connect with your friend</td>\n",
              "      <td>Strategy    (LOL, Plant vs Zombie, Tower Defen...</td>\n",
              "      <td>PC / Laptop</td>\n",
              "      <td>Play with friends</td>\n",
              "    </tr>\n",
              "    <tr>\n",
              "      <th>1</th>\n",
              "      <td>Male</td>\n",
              "      <td>3</td>\n",
              "      <td>1 hour</td>\n",
              "      <td>Kill time</td>\n",
              "      <td>RPG    (Elden Ring, God of War, Monster Hunter...</td>\n",
              "      <td>Console</td>\n",
              "      <td>Play with friends</td>\n",
              "    </tr>\n",
              "    <tr>\n",
              "      <th>2</th>\n",
              "      <td>Male</td>\n",
              "      <td>4</td>\n",
              "      <td>3 hours</td>\n",
              "      <td>Kill time</td>\n",
              "      <td>Survival horror    (Dead by daylight, The fore...</td>\n",
              "      <td>PC / Laptop</td>\n",
              "      <td>Play alone</td>\n",
              "    </tr>\n",
              "    <tr>\n",
              "      <th>3</th>\n",
              "      <td>Female</td>\n",
              "      <td>1</td>\n",
              "      <td>30 minutes or less</td>\n",
              "      <td>Kill time</td>\n",
              "      <td>Simulation    (the Sims, Jurassic World , Fall...</td>\n",
              "      <td>PC / Laptop</td>\n",
              "      <td>Play alone</td>\n",
              "    </tr>\n",
              "    <tr>\n",
              "      <th>4</th>\n",
              "      <td>Female</td>\n",
              "      <td>4</td>\n",
              "      <td>30 minutes or less</td>\n",
              "      <td>Kill time</td>\n",
              "      <td>Puzzle    (2048, Brainout, Escape Simulator,...)</td>\n",
              "      <td>Mobile phone</td>\n",
              "      <td>Play alone</td>\n",
              "    </tr>\n",
              "  </tbody>\n",
              "</table>\n",
              "</div>\n",
              "      <button class=\"colab-df-convert\" onclick=\"convertToInteractive('df-fd1d4735-32bf-41ca-b964-8674780b3cbd')\"\n",
              "              title=\"Convert this dataframe to an interactive table.\"\n",
              "              style=\"display:none;\">\n",
              "        \n",
              "  <svg xmlns=\"http://www.w3.org/2000/svg\" height=\"24px\"viewBox=\"0 0 24 24\"\n",
              "       width=\"24px\">\n",
              "    <path d=\"M0 0h24v24H0V0z\" fill=\"none\"/>\n",
              "    <path d=\"M18.56 5.44l.94 2.06.94-2.06 2.06-.94-2.06-.94-.94-2.06-.94 2.06-2.06.94zm-11 1L8.5 8.5l.94-2.06 2.06-.94-2.06-.94L8.5 2.5l-.94 2.06-2.06.94zm10 10l.94 2.06.94-2.06 2.06-.94-2.06-.94-.94-2.06-.94 2.06-2.06.94z\"/><path d=\"M17.41 7.96l-1.37-1.37c-.4-.4-.92-.59-1.43-.59-.52 0-1.04.2-1.43.59L10.3 9.45l-7.72 7.72c-.78.78-.78 2.05 0 2.83L4 21.41c.39.39.9.59 1.41.59.51 0 1.02-.2 1.41-.59l7.78-7.78 2.81-2.81c.8-.78.8-2.07 0-2.86zM5.41 20L4 18.59l7.72-7.72 1.47 1.35L5.41 20z\"/>\n",
              "  </svg>\n",
              "      </button>\n",
              "      \n",
              "  <style>\n",
              "    .colab-df-container {\n",
              "      display:flex;\n",
              "      flex-wrap:wrap;\n",
              "      gap: 12px;\n",
              "    }\n",
              "\n",
              "    .colab-df-convert {\n",
              "      background-color: #E8F0FE;\n",
              "      border: none;\n",
              "      border-radius: 50%;\n",
              "      cursor: pointer;\n",
              "      display: none;\n",
              "      fill: #1967D2;\n",
              "      height: 32px;\n",
              "      padding: 0 0 0 0;\n",
              "      width: 32px;\n",
              "    }\n",
              "\n",
              "    .colab-df-convert:hover {\n",
              "      background-color: #E2EBFA;\n",
              "      box-shadow: 0px 1px 2px rgba(60, 64, 67, 0.3), 0px 1px 3px 1px rgba(60, 64, 67, 0.15);\n",
              "      fill: #174EA6;\n",
              "    }\n",
              "\n",
              "    [theme=dark] .colab-df-convert {\n",
              "      background-color: #3B4455;\n",
              "      fill: #D2E3FC;\n",
              "    }\n",
              "\n",
              "    [theme=dark] .colab-df-convert:hover {\n",
              "      background-color: #434B5C;\n",
              "      box-shadow: 0px 1px 3px 1px rgba(0, 0, 0, 0.15);\n",
              "      filter: drop-shadow(0px 1px 2px rgba(0, 0, 0, 0.3));\n",
              "      fill: #FFFFFF;\n",
              "    }\n",
              "  </style>\n",
              "\n",
              "      <script>\n",
              "        const buttonEl =\n",
              "          document.querySelector('#df-fd1d4735-32bf-41ca-b964-8674780b3cbd button.colab-df-convert');\n",
              "        buttonEl.style.display =\n",
              "          google.colab.kernel.accessAllowed ? 'block' : 'none';\n",
              "\n",
              "        async function convertToInteractive(key) {\n",
              "          const element = document.querySelector('#df-fd1d4735-32bf-41ca-b964-8674780b3cbd');\n",
              "          const dataTable =\n",
              "            await google.colab.kernel.invokeFunction('convertToInteractive',\n",
              "                                                     [key], {});\n",
              "          if (!dataTable) return;\n",
              "\n",
              "          const docLinkHtml = 'Like what you see? Visit the ' +\n",
              "            '<a target=\"_blank\" href=https://colab.research.google.com/notebooks/data_table.ipynb>data table notebook</a>'\n",
              "            + ' to learn more about interactive tables.';\n",
              "          element.innerHTML = '';\n",
              "          dataTable['output_type'] = 'display_data';\n",
              "          await google.colab.output.renderOutput(dataTable, element);\n",
              "          const docLink = document.createElement('div');\n",
              "          docLink.innerHTML = docLinkHtml;\n",
              "          element.appendChild(docLink);\n",
              "        }\n",
              "      </script>\n",
              "    </div>\n",
              "  </div>\n",
              "  "
            ]
          },
          "metadata": {},
          "execution_count": 5
        }
      ]
    },
    {
      "cell_type": "code",
      "source": [
        "mapping_gender = {\n",
        "    'Male': 0, \n",
        "    'Female': 1, \n",
        "    'Other': 2\n",
        "}\n",
        "\n",
        "df['Gender'] = df['Gender'].map(mapping_gender)\n",
        "\n",
        "operating_time = np.unique(df['Operating time per day'])\n",
        "mapping_operating_time = {categories: label for label, categories in enumerate(operating_time)}\n",
        "print(mapping_operating_time)\n",
        "df['Operating time per day'] = df['Operating time per day'].map(mapping_operating_time)\n",
        "\n",
        "reasons = np.unique(df['Reason'])\n",
        "mapping_reasons = {categories: label for label, categories in enumerate(reasons)}\n",
        "print(reasons)\n",
        "df['Reason'] = df['Reason'].map(mapping_reasons)\n",
        "\n",
        "category = np.unique(df['Category'])\n",
        "mapping_category = {categories: label for label, categories in enumerate(category)}\n",
        "print(category)\n",
        "df['Category'] = df['Category'].map(mapping_category)\n",
        "\n",
        "device = np.unique(df['Device'])\n",
        "mapping_device = {categories: label for label, categories in enumerate(device)}\n",
        "print(device)\n",
        "df['Device'] = df['Device'].map(mapping_device)\n",
        "\n",
        "al_fr = np.unique(df['Alone/Friend'])\n",
        "mapping_al_fr = {categories: label for label, categories in enumerate(al_fr)}\n",
        "print(al_fr)\n",
        "df['Alone/Friend'] = df['Alone/Friend'].map(mapping_al_fr)\n",
        "\n",
        "df.head()"
      ],
      "metadata": {
        "colab": {
          "base_uri": "https://localhost:8080/",
          "height": 415
        },
        "id": "lSoPac9JBgbD",
        "outputId": "bd14c089-9185-4131-a4a8-bb52611cf489"
      },
      "execution_count": null,
      "outputs": [
        {
          "output_type": "stream",
          "name": "stdout",
          "text": [
            "{'1 hour': 0, '2 hours': 1, '3 hours': 2, '30 minutes': 3, '30 minutes or less': 4, 'Over 3 hours': 5}\n",
            "['Connect with your friend' 'Kill time' 'Plowing the top race']\n",
            "['Action    (PUBG, Free fire, Cuphead, Shadow fight, Honkai Impact 3rd, ...)'\n",
            " 'Adventure    (Minecraft, Genshin Impact, Mini World, Roblox, ...)'\n",
            " 'Other...' 'Puzzle    (2048, Brainout, Escape Simulator,...)'\n",
            " \"RPG    (Elden Ring, God of War, Monster Hunter, Assassin's Creed,...)\"\n",
            " 'Simulation    (the Sims, Jurassic World , Fallout Shelter,...)'\n",
            " 'Sport    (Forza Horizon, FIFA, NBA,...)'\n",
            " 'Strategy    (LOL, Plant vs Zombie, Tower Defense, Warcraft, Civilization,...)'\n",
            " 'Survival horror    (Dead by daylight, The forest, Outlast, Left 4 dead,...)']\n",
            "['Console' 'Mobile phone' 'PC / Laptop' 'VR devices']\n",
            "['Play alone' 'Play with friends']\n"
          ]
        },
        {
          "output_type": "execute_result",
          "data": {
            "text/plain": [
              "   Gender  Year of Studying  Operating time per day  Reason  Category  Device  \\\n",
              "0       0                 4                       3       0         7       2   \n",
              "1       0                 3                       0       1         4       0   \n",
              "2       0                 4                       2       1         8       2   \n",
              "3       1                 1                       4       1         5       2   \n",
              "4       1                 4                       4       1         3       1   \n",
              "\n",
              "   Alone/Friend  \n",
              "0             1  \n",
              "1             1  \n",
              "2             0  \n",
              "3             0  \n",
              "4             0  "
            ],
            "text/html": [
              "\n",
              "  <div id=\"df-26894b85-5401-49fe-ac8c-4b6be034e800\">\n",
              "    <div class=\"colab-df-container\">\n",
              "      <div>\n",
              "<style scoped>\n",
              "    .dataframe tbody tr th:only-of-type {\n",
              "        vertical-align: middle;\n",
              "    }\n",
              "\n",
              "    .dataframe tbody tr th {\n",
              "        vertical-align: top;\n",
              "    }\n",
              "\n",
              "    .dataframe thead th {\n",
              "        text-align: right;\n",
              "    }\n",
              "</style>\n",
              "<table border=\"1\" class=\"dataframe\">\n",
              "  <thead>\n",
              "    <tr style=\"text-align: right;\">\n",
              "      <th></th>\n",
              "      <th>Gender</th>\n",
              "      <th>Year of Studying</th>\n",
              "      <th>Operating time per day</th>\n",
              "      <th>Reason</th>\n",
              "      <th>Category</th>\n",
              "      <th>Device</th>\n",
              "      <th>Alone/Friend</th>\n",
              "    </tr>\n",
              "  </thead>\n",
              "  <tbody>\n",
              "    <tr>\n",
              "      <th>0</th>\n",
              "      <td>0</td>\n",
              "      <td>4</td>\n",
              "      <td>3</td>\n",
              "      <td>0</td>\n",
              "      <td>7</td>\n",
              "      <td>2</td>\n",
              "      <td>1</td>\n",
              "    </tr>\n",
              "    <tr>\n",
              "      <th>1</th>\n",
              "      <td>0</td>\n",
              "      <td>3</td>\n",
              "      <td>0</td>\n",
              "      <td>1</td>\n",
              "      <td>4</td>\n",
              "      <td>0</td>\n",
              "      <td>1</td>\n",
              "    </tr>\n",
              "    <tr>\n",
              "      <th>2</th>\n",
              "      <td>0</td>\n",
              "      <td>4</td>\n",
              "      <td>2</td>\n",
              "      <td>1</td>\n",
              "      <td>8</td>\n",
              "      <td>2</td>\n",
              "      <td>0</td>\n",
              "    </tr>\n",
              "    <tr>\n",
              "      <th>3</th>\n",
              "      <td>1</td>\n",
              "      <td>1</td>\n",
              "      <td>4</td>\n",
              "      <td>1</td>\n",
              "      <td>5</td>\n",
              "      <td>2</td>\n",
              "      <td>0</td>\n",
              "    </tr>\n",
              "    <tr>\n",
              "      <th>4</th>\n",
              "      <td>1</td>\n",
              "      <td>4</td>\n",
              "      <td>4</td>\n",
              "      <td>1</td>\n",
              "      <td>3</td>\n",
              "      <td>1</td>\n",
              "      <td>0</td>\n",
              "    </tr>\n",
              "  </tbody>\n",
              "</table>\n",
              "</div>\n",
              "      <button class=\"colab-df-convert\" onclick=\"convertToInteractive('df-26894b85-5401-49fe-ac8c-4b6be034e800')\"\n",
              "              title=\"Convert this dataframe to an interactive table.\"\n",
              "              style=\"display:none;\">\n",
              "        \n",
              "  <svg xmlns=\"http://www.w3.org/2000/svg\" height=\"24px\"viewBox=\"0 0 24 24\"\n",
              "       width=\"24px\">\n",
              "    <path d=\"M0 0h24v24H0V0z\" fill=\"none\"/>\n",
              "    <path d=\"M18.56 5.44l.94 2.06.94-2.06 2.06-.94-2.06-.94-.94-2.06-.94 2.06-2.06.94zm-11 1L8.5 8.5l.94-2.06 2.06-.94-2.06-.94L8.5 2.5l-.94 2.06-2.06.94zm10 10l.94 2.06.94-2.06 2.06-.94-2.06-.94-.94-2.06-.94 2.06-2.06.94z\"/><path d=\"M17.41 7.96l-1.37-1.37c-.4-.4-.92-.59-1.43-.59-.52 0-1.04.2-1.43.59L10.3 9.45l-7.72 7.72c-.78.78-.78 2.05 0 2.83L4 21.41c.39.39.9.59 1.41.59.51 0 1.02-.2 1.41-.59l7.78-7.78 2.81-2.81c.8-.78.8-2.07 0-2.86zM5.41 20L4 18.59l7.72-7.72 1.47 1.35L5.41 20z\"/>\n",
              "  </svg>\n",
              "      </button>\n",
              "      \n",
              "  <style>\n",
              "    .colab-df-container {\n",
              "      display:flex;\n",
              "      flex-wrap:wrap;\n",
              "      gap: 12px;\n",
              "    }\n",
              "\n",
              "    .colab-df-convert {\n",
              "      background-color: #E8F0FE;\n",
              "      border: none;\n",
              "      border-radius: 50%;\n",
              "      cursor: pointer;\n",
              "      display: none;\n",
              "      fill: #1967D2;\n",
              "      height: 32px;\n",
              "      padding: 0 0 0 0;\n",
              "      width: 32px;\n",
              "    }\n",
              "\n",
              "    .colab-df-convert:hover {\n",
              "      background-color: #E2EBFA;\n",
              "      box-shadow: 0px 1px 2px rgba(60, 64, 67, 0.3), 0px 1px 3px 1px rgba(60, 64, 67, 0.15);\n",
              "      fill: #174EA6;\n",
              "    }\n",
              "\n",
              "    [theme=dark] .colab-df-convert {\n",
              "      background-color: #3B4455;\n",
              "      fill: #D2E3FC;\n",
              "    }\n",
              "\n",
              "    [theme=dark] .colab-df-convert:hover {\n",
              "      background-color: #434B5C;\n",
              "      box-shadow: 0px 1px 3px 1px rgba(0, 0, 0, 0.15);\n",
              "      filter: drop-shadow(0px 1px 2px rgba(0, 0, 0, 0.3));\n",
              "      fill: #FFFFFF;\n",
              "    }\n",
              "  </style>\n",
              "\n",
              "      <script>\n",
              "        const buttonEl =\n",
              "          document.querySelector('#df-26894b85-5401-49fe-ac8c-4b6be034e800 button.colab-df-convert');\n",
              "        buttonEl.style.display =\n",
              "          google.colab.kernel.accessAllowed ? 'block' : 'none';\n",
              "\n",
              "        async function convertToInteractive(key) {\n",
              "          const element = document.querySelector('#df-26894b85-5401-49fe-ac8c-4b6be034e800');\n",
              "          const dataTable =\n",
              "            await google.colab.kernel.invokeFunction('convertToInteractive',\n",
              "                                                     [key], {});\n",
              "          if (!dataTable) return;\n",
              "\n",
              "          const docLinkHtml = 'Like what you see? Visit the ' +\n",
              "            '<a target=\"_blank\" href=https://colab.research.google.com/notebooks/data_table.ipynb>data table notebook</a>'\n",
              "            + ' to learn more about interactive tables.';\n",
              "          element.innerHTML = '';\n",
              "          dataTable['output_type'] = 'display_data';\n",
              "          await google.colab.output.renderOutput(dataTable, element);\n",
              "          const docLink = document.createElement('div');\n",
              "          docLink.innerHTML = docLinkHtml;\n",
              "          element.appendChild(docLink);\n",
              "        }\n",
              "      </script>\n",
              "    </div>\n",
              "  </div>\n",
              "  "
            ]
          },
          "metadata": {},
          "execution_count": 6
        }
      ]
    },
    {
      "cell_type": "code",
      "source": [
        "df.shape"
      ],
      "metadata": {
        "colab": {
          "base_uri": "https://localhost:8080/"
        },
        "id": "yU1IQmhIEGSO",
        "outputId": "5d012c89-d4c1-45a1-a07e-89ca93fed861"
      },
      "execution_count": null,
      "outputs": [
        {
          "output_type": "execute_result",
          "data": {
            "text/plain": [
              "(117, 7)"
            ]
          },
          "metadata": {},
          "execution_count": 7
        }
      ]
    },
    {
      "cell_type": "code",
      "source": [
        "df.describe()"
      ],
      "metadata": {
        "colab": {
          "base_uri": "https://localhost:8080/",
          "height": 300
        },
        "id": "h63eYInASHdK",
        "outputId": "2242c14d-d370-4744-d13f-c02981cfa01f"
      },
      "execution_count": null,
      "outputs": [
        {
          "output_type": "execute_result",
          "data": {
            "text/plain": [
              "           Gender  Year of Studying  Operating time per day      Reason  \\\n",
              "count  117.000000        117.000000              117.000000  117.000000   \n",
              "mean     0.615385          2.264957                2.555556    0.948718   \n",
              "std      0.797044          1.255286                1.913854    0.786153   \n",
              "min      0.000000          1.000000                0.000000    0.000000   \n",
              "25%      0.000000          1.000000                1.000000    0.000000   \n",
              "50%      0.000000          2.000000                2.000000    1.000000   \n",
              "75%      1.000000          4.000000                4.000000    2.000000   \n",
              "max      2.000000          4.000000                5.000000    2.000000   \n",
              "\n",
              "         Category      Device  Alone/Friend  \n",
              "count  117.000000  117.000000    117.000000  \n",
              "mean     3.794872    1.410256      0.418803  \n",
              "std      2.917068    0.696715      0.495485  \n",
              "min      0.000000    0.000000      0.000000  \n",
              "25%      1.000000    1.000000      0.000000  \n",
              "50%      4.000000    1.000000      0.000000  \n",
              "75%      7.000000    2.000000      1.000000  \n",
              "max      8.000000    3.000000      1.000000  "
            ],
            "text/html": [
              "\n",
              "  <div id=\"df-603857f8-1937-446f-bc0c-0eeafce26680\">\n",
              "    <div class=\"colab-df-container\">\n",
              "      <div>\n",
              "<style scoped>\n",
              "    .dataframe tbody tr th:only-of-type {\n",
              "        vertical-align: middle;\n",
              "    }\n",
              "\n",
              "    .dataframe tbody tr th {\n",
              "        vertical-align: top;\n",
              "    }\n",
              "\n",
              "    .dataframe thead th {\n",
              "        text-align: right;\n",
              "    }\n",
              "</style>\n",
              "<table border=\"1\" class=\"dataframe\">\n",
              "  <thead>\n",
              "    <tr style=\"text-align: right;\">\n",
              "      <th></th>\n",
              "      <th>Gender</th>\n",
              "      <th>Year of Studying</th>\n",
              "      <th>Operating time per day</th>\n",
              "      <th>Reason</th>\n",
              "      <th>Category</th>\n",
              "      <th>Device</th>\n",
              "      <th>Alone/Friend</th>\n",
              "    </tr>\n",
              "  </thead>\n",
              "  <tbody>\n",
              "    <tr>\n",
              "      <th>count</th>\n",
              "      <td>117.000000</td>\n",
              "      <td>117.000000</td>\n",
              "      <td>117.000000</td>\n",
              "      <td>117.000000</td>\n",
              "      <td>117.000000</td>\n",
              "      <td>117.000000</td>\n",
              "      <td>117.000000</td>\n",
              "    </tr>\n",
              "    <tr>\n",
              "      <th>mean</th>\n",
              "      <td>0.615385</td>\n",
              "      <td>2.264957</td>\n",
              "      <td>2.555556</td>\n",
              "      <td>0.948718</td>\n",
              "      <td>3.794872</td>\n",
              "      <td>1.410256</td>\n",
              "      <td>0.418803</td>\n",
              "    </tr>\n",
              "    <tr>\n",
              "      <th>std</th>\n",
              "      <td>0.797044</td>\n",
              "      <td>1.255286</td>\n",
              "      <td>1.913854</td>\n",
              "      <td>0.786153</td>\n",
              "      <td>2.917068</td>\n",
              "      <td>0.696715</td>\n",
              "      <td>0.495485</td>\n",
              "    </tr>\n",
              "    <tr>\n",
              "      <th>min</th>\n",
              "      <td>0.000000</td>\n",
              "      <td>1.000000</td>\n",
              "      <td>0.000000</td>\n",
              "      <td>0.000000</td>\n",
              "      <td>0.000000</td>\n",
              "      <td>0.000000</td>\n",
              "      <td>0.000000</td>\n",
              "    </tr>\n",
              "    <tr>\n",
              "      <th>25%</th>\n",
              "      <td>0.000000</td>\n",
              "      <td>1.000000</td>\n",
              "      <td>1.000000</td>\n",
              "      <td>0.000000</td>\n",
              "      <td>1.000000</td>\n",
              "      <td>1.000000</td>\n",
              "      <td>0.000000</td>\n",
              "    </tr>\n",
              "    <tr>\n",
              "      <th>50%</th>\n",
              "      <td>0.000000</td>\n",
              "      <td>2.000000</td>\n",
              "      <td>2.000000</td>\n",
              "      <td>1.000000</td>\n",
              "      <td>4.000000</td>\n",
              "      <td>1.000000</td>\n",
              "      <td>0.000000</td>\n",
              "    </tr>\n",
              "    <tr>\n",
              "      <th>75%</th>\n",
              "      <td>1.000000</td>\n",
              "      <td>4.000000</td>\n",
              "      <td>4.000000</td>\n",
              "      <td>2.000000</td>\n",
              "      <td>7.000000</td>\n",
              "      <td>2.000000</td>\n",
              "      <td>1.000000</td>\n",
              "    </tr>\n",
              "    <tr>\n",
              "      <th>max</th>\n",
              "      <td>2.000000</td>\n",
              "      <td>4.000000</td>\n",
              "      <td>5.000000</td>\n",
              "      <td>2.000000</td>\n",
              "      <td>8.000000</td>\n",
              "      <td>3.000000</td>\n",
              "      <td>1.000000</td>\n",
              "    </tr>\n",
              "  </tbody>\n",
              "</table>\n",
              "</div>\n",
              "      <button class=\"colab-df-convert\" onclick=\"convertToInteractive('df-603857f8-1937-446f-bc0c-0eeafce26680')\"\n",
              "              title=\"Convert this dataframe to an interactive table.\"\n",
              "              style=\"display:none;\">\n",
              "        \n",
              "  <svg xmlns=\"http://www.w3.org/2000/svg\" height=\"24px\"viewBox=\"0 0 24 24\"\n",
              "       width=\"24px\">\n",
              "    <path d=\"M0 0h24v24H0V0z\" fill=\"none\"/>\n",
              "    <path d=\"M18.56 5.44l.94 2.06.94-2.06 2.06-.94-2.06-.94-.94-2.06-.94 2.06-2.06.94zm-11 1L8.5 8.5l.94-2.06 2.06-.94-2.06-.94L8.5 2.5l-.94 2.06-2.06.94zm10 10l.94 2.06.94-2.06 2.06-.94-2.06-.94-.94-2.06-.94 2.06-2.06.94z\"/><path d=\"M17.41 7.96l-1.37-1.37c-.4-.4-.92-.59-1.43-.59-.52 0-1.04.2-1.43.59L10.3 9.45l-7.72 7.72c-.78.78-.78 2.05 0 2.83L4 21.41c.39.39.9.59 1.41.59.51 0 1.02-.2 1.41-.59l7.78-7.78 2.81-2.81c.8-.78.8-2.07 0-2.86zM5.41 20L4 18.59l7.72-7.72 1.47 1.35L5.41 20z\"/>\n",
              "  </svg>\n",
              "      </button>\n",
              "      \n",
              "  <style>\n",
              "    .colab-df-container {\n",
              "      display:flex;\n",
              "      flex-wrap:wrap;\n",
              "      gap: 12px;\n",
              "    }\n",
              "\n",
              "    .colab-df-convert {\n",
              "      background-color: #E8F0FE;\n",
              "      border: none;\n",
              "      border-radius: 50%;\n",
              "      cursor: pointer;\n",
              "      display: none;\n",
              "      fill: #1967D2;\n",
              "      height: 32px;\n",
              "      padding: 0 0 0 0;\n",
              "      width: 32px;\n",
              "    }\n",
              "\n",
              "    .colab-df-convert:hover {\n",
              "      background-color: #E2EBFA;\n",
              "      box-shadow: 0px 1px 2px rgba(60, 64, 67, 0.3), 0px 1px 3px 1px rgba(60, 64, 67, 0.15);\n",
              "      fill: #174EA6;\n",
              "    }\n",
              "\n",
              "    [theme=dark] .colab-df-convert {\n",
              "      background-color: #3B4455;\n",
              "      fill: #D2E3FC;\n",
              "    }\n",
              "\n",
              "    [theme=dark] .colab-df-convert:hover {\n",
              "      background-color: #434B5C;\n",
              "      box-shadow: 0px 1px 3px 1px rgba(0, 0, 0, 0.15);\n",
              "      filter: drop-shadow(0px 1px 2px rgba(0, 0, 0, 0.3));\n",
              "      fill: #FFFFFF;\n",
              "    }\n",
              "  </style>\n",
              "\n",
              "      <script>\n",
              "        const buttonEl =\n",
              "          document.querySelector('#df-603857f8-1937-446f-bc0c-0eeafce26680 button.colab-df-convert');\n",
              "        buttonEl.style.display =\n",
              "          google.colab.kernel.accessAllowed ? 'block' : 'none';\n",
              "\n",
              "        async function convertToInteractive(key) {\n",
              "          const element = document.querySelector('#df-603857f8-1937-446f-bc0c-0eeafce26680');\n",
              "          const dataTable =\n",
              "            await google.colab.kernel.invokeFunction('convertToInteractive',\n",
              "                                                     [key], {});\n",
              "          if (!dataTable) return;\n",
              "\n",
              "          const docLinkHtml = 'Like what you see? Visit the ' +\n",
              "            '<a target=\"_blank\" href=https://colab.research.google.com/notebooks/data_table.ipynb>data table notebook</a>'\n",
              "            + ' to learn more about interactive tables.';\n",
              "          element.innerHTML = '';\n",
              "          dataTable['output_type'] = 'display_data';\n",
              "          await google.colab.output.renderOutput(dataTable, element);\n",
              "          const docLink = document.createElement('div');\n",
              "          docLink.innerHTML = docLinkHtml;\n",
              "          element.appendChild(docLink);\n",
              "        }\n",
              "      </script>\n",
              "    </div>\n",
              "  </div>\n",
              "  "
            ]
          },
          "metadata": {},
          "execution_count": 8
        }
      ]
    },
    {
      "cell_type": "markdown",
      "source": [
        "<h1> TRAINING MODEL WITH NORMALIZATION </h1>"
      ],
      "metadata": {
        "id": "5EKL0n24lRjT"
      }
    },
    {
      "cell_type": "code",
      "source": [
        "def _plot_kmean_scatter(X, labels):\n",
        "\n",
        "    num_classes = len(np.unique(labels))\n",
        "    palette = np.array(sns.color_palette(\"hls\", num_classes))\n",
        "\n",
        "    fig = plt.figure(figsize=(12, 8))\n",
        "    ax = plt.subplot()\n",
        "    sc = ax.scatter(X[:,0], X[:,1], lw=0, s=150, c=palette[labels.astype(np.int)])\n",
        "\n",
        "    txts = []\n",
        "\n",
        "    for i in range(num_classes):\n",
        "        xtext, ytext = np.median(X[labels == i, :], axis=0)\n",
        "        txt = ax.text(xtext, ytext, str(i), fontsize=24)\n",
        "        txt.set_path_effects([\n",
        "            PathEffects.Stroke(linewidth=5, foreground=\"w\"),\n",
        "            PathEffects.Normal()])\n",
        "        txts.append(txt)\n",
        "    plt.title('t-sne visualization')\n",
        "    plt.grid()"
      ],
      "metadata": {
        "id": "SQjZ2WRTk6OS"
      },
      "execution_count": null,
      "outputs": []
    },
    {
      "cell_type": "code",
      "source": [
        "df = df.dropna()\n",
        "X = np.array(df.iloc[: 117, :]).astype(np.float32)\n",
        "X = Normalizer().fit_transform(X)\n",
        "X.shape"
      ],
      "metadata": {
        "colab": {
          "base_uri": "https://localhost:8080/"
        },
        "id": "voCvFibpJj7y",
        "outputId": "fdf1aad0-e674-4d6c-cd87-56e40bb34921"
      },
      "execution_count": null,
      "outputs": [
        {
          "output_type": "execute_result",
          "data": {
            "text/plain": [
              "(117, 7)"
            ]
          },
          "metadata": {},
          "execution_count": 10
        }
      ]
    },
    {
      "cell_type": "code",
      "source": [
        "plt.figure(figsize=(20, 7))\n",
        "plt.title(\"Dendograms\")\n",
        "dend = shc.dendrogram(shc.linkage(X, method='ward'))\n",
        "plt.axhline(28, linestyle='--')\n",
        "plt.xlabel('sample indice')\n",
        "plt.ylabel('dissimilarity metric cluster')"
      ],
      "metadata": {
        "id": "bjtpFU51FkQD",
        "colab": {
          "base_uri": "https://localhost:8080/",
          "height": 475
        },
        "outputId": "186ad804-fc68-4b94-bdc2-d4740e5f747a"
      },
      "execution_count": null,
      "outputs": [
        {
          "output_type": "execute_result",
          "data": {
            "text/plain": [
              "Text(0, 0.5, 'dissimilarity metric cluster')"
            ]
          },
          "metadata": {},
          "execution_count": 11
        },
        {
          "output_type": "display_data",
          "data": {
            "text/plain": [
              "<Figure size 1440x504 with 1 Axes>"
            ],
            "image/png": "[encoded data removed]"
          },
          "metadata": {
            "needs_background": "light"
          }
        }
      ]
    },
    {
      "cell_type": "code",
      "source": [
        "plt.figure(figsize=(20, 7))\n",
        "plt.title(\"Dendograms\")\n",
        "dend = shc.dendrogram(shc.linkage(X, method='average'))\n",
        "plt.xlabel('sample indice')\n",
        "plt.ylabel('dissimilarity metric cluster')"
      ],
      "metadata": {
        "id": "Hbonzs9Kuxrb",
        "colab": {
          "base_uri": "https://localhost:8080/",
          "height": 475
        },
        "outputId": "e51e3bc7-2365-4485-83e3-8ff1c3bebeb9"
      },
      "execution_count": null,
      "outputs": [
        {
          "output_type": "execute_result",
          "data": {
            "text/plain": [
              "Text(0, 0.5, 'dissimilarity metric cluster')"
            ]
          },
          "metadata": {},
          "execution_count": 12
        },
        {
          "output_type": "display_data",
          "data": {
            "text/plain": [
              "<Figure size 1440x504 with 1 Axes>"
            ],
            "image/png": "[encoded data removed]"
          },
          "metadata": {
            "needs_background": "light"
          }
        }
      ]
    },
    {
      "cell_type": "code",
      "source": [
        "plt.figure(figsize=(20, 7))\n",
        "plt.title(\"Dendograms\")\n",
        "dend = shc.dendrogram(shc.linkage(X, method='single'))\n",
        "plt.xlabel('sample indice')\n",
        "plt.ylabel('dissimilarity metric cluster')"
      ],
      "metadata": {
        "id": "Y8cJzt2FBAtZ",
        "colab": {
          "base_uri": "https://localhost:8080/",
          "height": 475
        },
        "outputId": "c8807bf0-41ba-442d-8f0f-2e95a502c6df"
      },
      "execution_count": null,
      "outputs": [
        {
          "output_type": "execute_result",
          "data": {
            "text/plain": [
              "Text(0, 0.5, 'dissimilarity metric cluster')"
            ]
          },
          "metadata": {},
          "execution_count": 13
        },
        {
          "output_type": "display_data",
          "data": {
            "text/plain": [
              "<Figure size 1440x504 with 1 Axes>"
            ],
            "image/png": "[encoded data removed]"
          },
          "metadata": {
            "needs_background": "light"
          }
        }
      ]
    },
    {
      "cell_type": "code",
      "source": [
        "plt.figure(figsize=(20, 7))\n",
        "plt.title(\"Dendograms\")\n",
        "dend = shc.dendrogram(shc.linkage(X, method='complete'))\n",
        "plt.xlabel('sample indice')\n",
        "plt.ylabel('dissimilarity metric cluster')"
      ],
      "metadata": {
        "id": "hathA_e8n_WG",
        "colab": {
          "base_uri": "https://localhost:8080/",
          "height": 475
        },
        "outputId": "308171a1-8fa2-4005-fed3-e2b7a84e3ced"
      },
      "execution_count": null,
      "outputs": [
        {
          "output_type": "execute_result",
          "data": {
            "text/plain": [
              "Text(0, 0.5, 'dissimilarity metric cluster')"
            ]
          },
          "metadata": {},
          "execution_count": 14
        },
        {
          "output_type": "display_data",
          "data": {
            "text/plain": [
              "<Figure size 1440x504 with 1 Axes>"
            ],
            "image/png": "[encoded data removed]"
          },
          "metadata": {
            "needs_background": "light"
          }
        }
      ]
    },
    {
      "cell_type": "code",
      "source": [
        "cluster = AgglomerativeClustering(n_clusters=4, affinity='euclidean', linkage='ward')\n",
        "labels = cluster.fit_predict(X)\n",
        "\n",
        "\n",
        "_plot_kmean_scatter(X[:, [2, 4]], labels)"
      ],
      "metadata": {
        "id": "3pi48olBKspQ",
        "colab": {
          "base_uri": "https://localhost:8080/",
          "height": 571
        },
        "outputId": "ad0b8d13-85ab-4e30-ce2b-90d28785604f"
      },
      "execution_count": null,
      "outputs": [
        {
          "output_type": "stream",
          "name": "stderr",
          "text": [
            "<ipython-input-9-f01e928d6b9c>:8: DeprecationWarning: `np.int` is a deprecated alias for the builtin `int`. To silence this warning, use `int` by itself. Doing this will not modify any behavior and is safe. When replacing `np.int`, you may wish to use e.g. `np.int64` or `np.int32` to specify the precision. If you wish to review your current use, check the release note link for additional information.\n",
            "Deprecated in NumPy 1.20; for more details and guidance: https://numpy.org/devdocs/release/1.20.0-notes.html#deprecations\n",
            "  sc = ax.scatter(X[:,0], X[:,1], lw=0, s=150, c=palette[labels.astype(np.int)])\n"
          ]
        },
        {
          "output_type": "display_data",
          "data": {
            "text/plain": [
              "<Figure size 864x576 with 1 Axes>"
            ],
            "image/png": "[encoded data removed]"
          },
          "metadata": {
            "needs_background": "light"
          }
        }
      ]
    },
    {
      "cell_type": "code",
      "source": [
        "cluster = AgglomerativeClustering(n_clusters=4, affinity='euclidean', linkage='average')\n",
        "labels = cluster.fit_predict(X)\n",
        "\n",
        "\n",
        "_plot_kmean_scatter(X[:, [2, 4]], labels)"
      ],
      "metadata": {
        "id": "R7k7jXHjLDkj",
        "colab": {
          "base_uri": "https://localhost:8080/",
          "height": 571
        },
        "outputId": "925d557a-ef43-4547-8324-61dc7f090fb2"
      },
      "execution_count": null,
      "outputs": [
        {
          "output_type": "stream",
          "name": "stderr",
          "text": [
            "<ipython-input-9-f01e928d6b9c>:8: DeprecationWarning: `np.int` is a deprecated alias for the builtin `int`. To silence this warning, use `int` by itself. Doing this will not modify any behavior and is safe. When replacing `np.int`, you may wish to use e.g. `np.int64` or `np.int32` to specify the precision. If you wish to review your current use, check the release note link for additional information.\n",
            "Deprecated in NumPy 1.20; for more details and guidance: https://numpy.org/devdocs/release/1.20.0-notes.html#deprecations\n",
            "  sc = ax.scatter(X[:,0], X[:,1], lw=0, s=150, c=palette[labels.astype(np.int)])\n"
          ]
        },
        {
          "output_type": "display_data",
          "data": {
            "text/plain": [
              "<Figure size 864x576 with 1 Axes>"
            ],
            "image/png": "[encoded data removed]"
          },
          "metadata": {
            "needs_background": "light"
          }
        }
      ]
    },
    {
      "cell_type": "code",
      "source": [
        "cluster = AgglomerativeClustering(n_clusters=4, affinity='euclidean', linkage='single')\n",
        "labels = cluster.fit_predict(X)\n",
        "\n",
        "_plot_kmean_scatter(X[:, [2, 4]], labels)"
      ],
      "metadata": {
        "id": "yGW8ePjeLP60",
        "colab": {
          "base_uri": "https://localhost:8080/",
          "height": 571
        },
        "outputId": "95855d84-6f06-4879-872f-da10027edd97"
      },
      "execution_count": null,
      "outputs": [
        {
          "output_type": "stream",
          "name": "stderr",
          "text": [
            "<ipython-input-9-f01e928d6b9c>:8: DeprecationWarning: `np.int` is a deprecated alias for the builtin `int`. To silence this warning, use `int` by itself. Doing this will not modify any behavior and is safe. When replacing `np.int`, you may wish to use e.g. `np.int64` or `np.int32` to specify the precision. If you wish to review your current use, check the release note link for additional information.\n",
            "Deprecated in NumPy 1.20; for more details and guidance: https://numpy.org/devdocs/release/1.20.0-notes.html#deprecations\n",
            "  sc = ax.scatter(X[:,0], X[:,1], lw=0, s=150, c=palette[labels.astype(np.int)])\n"
          ]
        },
        {
          "output_type": "display_data",
          "data": {
            "text/plain": [
              "<Figure size 864x576 with 1 Axes>"
            ],
            "image/png": "[encoded data removed]"
          },
          "metadata": {
            "needs_background": "light"
          }
        }
      ]
    },
    {
      "cell_type": "code",
      "source": [
        "cluster = AgglomerativeClustering(n_clusters=4, affinity='euclidean', linkage='complete')\n",
        "labels = cluster.fit_predict(X)\n",
        "\n",
        "_plot_kmean_scatter(X[:, [2, 4]], labels)"
      ],
      "metadata": {
        "id": "VlFYHHCcL4YB",
        "colab": {
          "base_uri": "https://localhost:8080/",
          "height": 571
        },
        "outputId": "2c28c76f-b8be-4a76-fb89-12dfd809453e"
      },
      "execution_count": null,
      "outputs": [
        {
          "output_type": "stream",
          "name": "stderr",
          "text": [
            "<ipython-input-9-f01e928d6b9c>:8: DeprecationWarning: `np.int` is a deprecated alias for the builtin `int`. To silence this warning, use `int` by itself. Doing this will not modify any behavior and is safe. When replacing `np.int`, you may wish to use e.g. `np.int64` or `np.int32` to specify the precision. If you wish to review your current use, check the release note link for additional information.\n",
            "Deprecated in NumPy 1.20; for more details and guidance: https://numpy.org/devdocs/release/1.20.0-notes.html#deprecations\n",
            "  sc = ax.scatter(X[:,0], X[:,1], lw=0, s=150, c=palette[labels.astype(np.int)])\n"
          ]
        },
        {
          "output_type": "display_data",
          "data": {
            "text/plain": [
              "<Figure size 864x576 with 1 Axes>"
            ],
            "image/png": "[encoded data removed]"
          },
          "metadata": {
            "needs_background": "light"
          }
        }
      ]
    },
    {
      "cell_type": "markdown",
      "source": [
        "<h1>EVALUATING MODEL USING PCA</h1>"
      ],
      "metadata": {
        "id": "kZrizwMclc_4"
      }
    },
    {
      "cell_type": "code",
      "source": [
        "\n",
        "from sklearn.decomposition import PCA \n",
        "from sklearn.preprocessing import StandardScaler\n",
        "\n",
        "Y = np.array(df.iloc[:117])\n",
        "\n",
        "scaler = StandardScaler()\n",
        "scaler.fit(Y)\n",
        "scale_my_data = scaler.transform(Y)\n",
        "\n",
        "for my_data in scale_my_data:\n",
        "    print(my_data)"
      ],
      "metadata": {
        "id": "ZL3J90kBbKFe",
        "colab": {
          "base_uri": "https://localhost:8080/"
        },
        "outputId": "7b3d878b-19f4-468f-fbbf-8853198bb6f4"
      },
      "execution_count": null,
      "outputs": [
        {
          "output_type": "stream",
          "name": "stdout",
          "text": [
            "[-0.7754048   1.38813357  0.23322372 -1.2119753   1.10347586  0.85010446\n",
            "  1.17803018]\n",
            "[-0.7754048   0.58807629 -1.34103641  0.06551218  0.07062246 -2.0328585\n",
            "  1.17803018]\n",
            "[-0.7754048   1.38813357 -0.29152966  0.06551218  1.44776033  0.85010446\n",
            " -0.84887469]\n",
            "[ 0.484628   -1.01203827  0.7579771   0.06551218  0.41490692  0.85010446\n",
            " -0.84887469]\n",
            "[ 0.484628    1.38813357  0.7579771   0.06551218 -0.27366201 -0.59137702\n",
            " -0.84887469]\n",
            "[-0.7754048   0.58807629 -0.29152966 -1.2119753  -1.30651542  0.85010446\n",
            "  1.17803018]\n",
            "[-0.7754048  -1.01203827  0.7579771   0.06551218 -1.30651542  0.85010446\n",
            " -0.84887469]\n",
            "[-0.7754048  -0.21198099 -1.34103641  1.34299965 -0.96223095 -2.0328585\n",
            " -0.84887469]\n",
            "[ 0.484628    1.38813357  1.28273048 -1.2119753   1.44776033 -0.59137702\n",
            "  1.17803018]\n",
            "[ 0.484628   -0.21198099 -0.29152966  1.34299965  1.10347586  0.85010446\n",
            " -0.84887469]\n",
            "[ 1.74466081  1.38813357 -0.81628303  0.06551218 -0.27366201 -0.59137702\n",
            " -0.84887469]\n",
            "[ 0.484628   -1.01203827  0.7579771   0.06551218  0.41490692  2.29158594\n",
            " -0.84887469]\n",
            "[ 1.74466081 -0.21198099 -1.34103641  1.34299965  0.07062246 -0.59137702\n",
            "  1.17803018]\n",
            "[-0.7754048  -1.01203827  1.28273048  1.34299965  0.75919139 -2.0328585\n",
            "  1.17803018]\n",
            "[-0.7754048   1.38813357  1.28273048  1.34299965  1.10347586  0.85010446\n",
            " -0.84887469]\n",
            "[-0.7754048   0.58807629 -0.81628303  1.34299965  0.41490692  0.85010446\n",
            "  1.17803018]\n",
            "[ 1.74466081 -1.01203827 -0.29152966  1.34299965 -0.96223095  2.29158594\n",
            " -0.84887469]\n",
            "[-0.7754048  -0.21198099 -1.34103641  1.34299965  0.41490692 -2.0328585\n",
            " -0.84887469]\n",
            "[-0.7754048  -0.21198099 -1.34103641  1.34299965  0.75919139 -2.0328585\n",
            "  1.17803018]\n",
            "[-0.7754048  -1.01203827 -0.81628303  1.34299965  0.07062246  0.85010446\n",
            " -0.84887469]\n",
            "[-0.7754048  -0.21198099 -1.34103641 -1.2119753   0.07062246 -0.59137702\n",
            "  1.17803018]\n",
            "[ 0.484628   -1.01203827 -1.34103641 -1.2119753  -1.30651542  0.85010446\n",
            " -0.84887469]\n",
            "[ 0.484628    1.38813357  0.7579771   0.06551218 -0.96223095  0.85010446\n",
            " -0.84887469]\n",
            "[ 0.484628   -0.21198099 -0.81628303  1.34299965  1.44776033  0.85010446\n",
            " -0.84887469]\n",
            "[-0.7754048   1.38813357 -0.81628303 -1.2119753  -1.30651542 -0.59137702\n",
            "  1.17803018]\n",
            "[-0.7754048   1.38813357 -0.81628303 -1.2119753   1.10347586  0.85010446\n",
            " -0.84887469]\n",
            "[-0.7754048   0.58807629 -1.34103641  0.06551218  0.07062246 -2.0328585\n",
            " -0.84887469]\n",
            "[-0.7754048  -0.21198099 -1.34103641  1.34299965  0.07062246  0.85010446\n",
            "  1.17803018]\n",
            "[ 1.74466081 -0.21198099 -1.34103641  1.34299965 -1.30651542  0.85010446\n",
            "  1.17803018]\n",
            "[-0.7754048  -0.21198099  0.7579771   0.06551218 -1.30651542  0.85010446\n",
            " -0.84887469]\n",
            "[-0.7754048  -0.21198099  1.28273048  0.06551218  0.41490692  0.85010446\n",
            " -0.84887469]\n",
            "[-0.7754048  -1.01203827 -0.29152966  1.34299965  1.10347586  0.85010446\n",
            " -0.84887469]\n",
            "[ 0.484628   -1.01203827 -0.29152966 -1.2119753   0.07062246 -0.59137702\n",
            "  1.17803018]\n",
            "[ 1.74466081 -0.21198099 -1.34103641  0.06551218 -0.96223095  0.85010446\n",
            " -0.84887469]\n",
            "[-0.7754048   0.58807629 -0.81628303  1.34299965 -0.96223095  0.85010446\n",
            " -0.84887469]\n",
            "[-0.7754048  -1.01203827  1.28273048  0.06551218  1.10347586  0.85010446\n",
            " -0.84887469]\n",
            "[-0.7754048  -1.01203827  1.28273048  1.34299965  0.75919139  0.85010446\n",
            " -0.84887469]\n",
            "[-0.7754048   1.38813357 -0.81628303  0.06551218  1.10347586  0.85010446\n",
            "  1.17803018]\n",
            "[-0.7754048   1.38813357  0.7579771   1.34299965  1.10347586  0.85010446\n",
            " -0.84887469]\n",
            "[-0.7754048  -0.21198099  1.28273048  0.06551218  0.07062246  0.85010446\n",
            " -0.84887469]\n",
            "[-0.7754048  -1.01203827  1.28273048  0.06551218  0.07062246  0.85010446\n",
            " -0.84887469]\n",
            "[ 0.484628   -1.01203827 -0.81628303 -1.2119753  -1.30651542 -0.59137702\n",
            "  1.17803018]\n",
            "[-0.7754048  -1.01203827  1.28273048  1.34299965  1.10347586  0.85010446\n",
            " -0.84887469]\n",
            "[-0.7754048  -1.01203827  1.28273048  0.06551218  0.07062246 -2.0328585\n",
            " -0.84887469]\n",
            "[ 1.74466081 -0.21198099 -1.34103641 -1.2119753   1.10347586 -0.59137702\n",
            "  1.17803018]\n",
            "[ 1.74466081 -1.01203827 -1.34103641 -1.2119753  -1.30651542 -0.59137702\n",
            "  1.17803018]\n",
            "[-0.7754048  -1.01203827  0.7579771   0.06551218  0.75919139 -0.59137702\n",
            " -0.84887469]\n",
            "[-0.7754048  -1.01203827  1.28273048  1.34299965  1.10347586  0.85010446\n",
            " -0.84887469]\n",
            "[-0.7754048   1.38813357  1.28273048 -1.2119753   1.44776033  0.85010446\n",
            "  1.17803018]\n",
            "[-0.7754048  -1.01203827  1.28273048  1.34299965 -1.30651542 -0.59137702\n",
            " -0.84887469]\n",
            "[-0.7754048  -0.21198099 -0.29152966  1.34299965  1.10347586  0.85010446\n",
            " -0.84887469]\n",
            "[-0.7754048   1.38813357 -0.29152966 -1.2119753  -0.96223095  0.85010446\n",
            "  1.17803018]\n",
            "[-0.7754048  -1.01203827 -0.29152966 -1.2119753  -0.96223095 -0.59137702\n",
            "  1.17803018]\n",
            "[-0.7754048  -1.01203827  1.28273048  0.06551218  1.10347586  0.85010446\n",
            " -0.84887469]\n",
            "[-0.7754048  -0.21198099 -1.34103641  1.34299965  1.10347586 -2.0328585\n",
            " -0.84887469]\n",
            "[ 0.484628   -1.01203827 -1.34103641 -1.2119753  -1.30651542 -0.59137702\n",
            "  1.17803018]\n",
            "[ 1.74466081 -1.01203827 -0.81628303 -1.2119753  -1.30651542 -0.59137702\n",
            "  1.17803018]\n",
            "[-0.7754048  -1.01203827  1.28273048  1.34299965 -1.30651542 -0.59137702\n",
            " -0.84887469]\n",
            "[-0.7754048  -0.21198099 -0.29152966  0.06551218 -0.27366201 -0.59137702\n",
            " -0.84887469]\n",
            "[ 0.484628    1.38813357  0.7579771   0.06551218 -0.27366201 -0.59137702\n",
            " -0.84887469]\n",
            "[ 1.74466081  1.38813357  0.7579771   0.06551218 -0.27366201 -0.59137702\n",
            " -0.84887469]\n",
            "[-0.7754048  -0.21198099  1.28273048 -1.2119753  -0.96223095  0.85010446\n",
            " -0.84887469]\n",
            "[-0.7754048  -0.21198099 -1.34103641  0.06551218 -0.27366201 -0.59137702\n",
            " -0.84887469]\n",
            "[ 0.484628    0.58807629  0.7579771   0.06551218 -0.27366201 -0.59137702\n",
            " -0.84887469]\n",
            "[ 0.484628   -0.21198099  0.7579771   0.06551218 -0.27366201 -0.59137702\n",
            " -0.84887469]\n",
            "[-0.7754048  -1.01203827  1.28273048 -1.2119753   1.10347586  0.85010446\n",
            "  1.17803018]\n",
            "[ 1.74466081 -1.01203827 -0.29152966 -1.2119753  -1.30651542 -0.59137702\n",
            "  1.17803018]\n",
            "[ 1.74466081 -1.01203827  0.7579771   0.06551218  1.10347586 -0.59137702\n",
            " -0.84887469]\n",
            "[ 0.484628   -0.21198099  0.7579771   0.06551218  1.10347586 -0.59137702\n",
            " -0.84887469]\n",
            "[ 1.74466081 -1.01203827  0.7579771   0.06551218 -0.27366201 -0.59137702\n",
            " -0.84887469]\n",
            "[ 0.484628    1.38813357 -0.81628303 -1.2119753  -1.30651542 -0.59137702\n",
            "  1.17803018]\n",
            "[-0.7754048   1.38813357 -0.81628303 -1.2119753   1.10347586  0.85010446\n",
            "  1.17803018]\n",
            "[-0.7754048  -1.01203827  1.28273048 -1.2119753   1.10347586  0.85010446\n",
            "  1.17803018]\n",
            "[-0.7754048   1.38813357  1.28273048 -1.2119753   1.10347586  0.85010446\n",
            "  1.17803018]\n",
            "[ 1.74466081  1.38813357  0.7579771   0.06551218 -1.30651542 -0.59137702\n",
            " -0.84887469]\n",
            "[ 0.484628    1.38813357 -0.81628303 -1.2119753  -1.30651542 -0.59137702\n",
            "  1.17803018]\n",
            "[-0.7754048   1.38813357  1.28273048  1.34299965  1.10347586  0.85010446\n",
            " -0.84887469]\n",
            "[-0.7754048   1.38813357  1.28273048 -1.2119753  -1.30651542  0.85010446\n",
            " -0.84887469]\n",
            "[ 1.74466081 -1.01203827 -1.34103641  0.06551218 -0.96223095  2.29158594\n",
            " -0.84887469]\n",
            "[ 1.74466081 -0.21198099 -0.29152966  0.06551218  1.10347586  0.85010446\n",
            " -0.84887469]\n",
            "[ 1.74466081 -1.01203827  0.7579771   0.06551218  0.41490692 -2.0328585\n",
            " -0.84887469]\n",
            "[-0.7754048  -1.01203827 -0.81628303 -1.2119753  -1.30651542 -0.59137702\n",
            "  1.17803018]\n",
            "[-0.7754048   0.58807629 -0.81628303  1.34299965 -0.96223095 -0.59137702\n",
            " -0.84887469]\n",
            "[ 0.484628   -1.01203827 -0.81628303 -1.2119753  -1.30651542 -0.59137702\n",
            "  1.17803018]\n",
            "[ 1.74466081 -1.01203827  0.7579771   0.06551218  1.10347586 -0.59137702\n",
            " -0.84887469]\n",
            "[ 1.74466081 -1.01203827  0.7579771   0.06551218  1.10347586 -0.59137702\n",
            " -0.84887469]\n",
            "[ 0.484628   -1.01203827 -1.34103641  0.06551218  1.10347586 -0.59137702\n",
            " -0.84887469]\n",
            "[-0.7754048  -1.01203827  1.28273048  1.34299965  1.10347586  0.85010446\n",
            "  1.17803018]\n",
            "[-0.7754048   1.38813357 -0.29152966 -1.2119753  -0.96223095  0.85010446\n",
            "  1.17803018]\n",
            "[ 0.484628    0.58807629 -0.81628303 -1.2119753  -1.30651542 -0.59137702\n",
            "  1.17803018]\n",
            "[ 0.484628   -0.21198099 -0.81628303  0.06551218  1.10347586 -0.59137702\n",
            "  1.17803018]\n",
            "[-0.7754048   1.38813357 -1.34103641  0.06551218  1.10347586  0.85010446\n",
            "  1.17803018]\n",
            "[-0.7754048  -1.01203827  1.28273048  1.34299965  1.10347586  0.85010446\n",
            " -0.84887469]\n",
            "[-0.7754048   1.38813357  0.7579771   0.06551218 -0.27366201 -0.59137702\n",
            "  1.17803018]\n",
            "[ 0.484628   -1.01203827  0.7579771   0.06551218 -0.61794648 -0.59137702\n",
            " -0.84887469]\n",
            "[ 0.484628   -1.01203827  0.7579771   0.06551218 -0.61794648 -0.59137702\n",
            "  1.17803018]\n",
            "[ 1.74466081 -1.01203827  0.7579771   0.06551218 -0.61794648 -0.59137702\n",
            "  1.17803018]\n",
            "[-0.7754048  -1.01203827  1.28273048  0.06551218 -1.30651542  0.85010446\n",
            " -0.84887469]\n",
            "[-0.7754048  -0.21198099 -0.29152966  1.34299965  1.10347586  0.85010446\n",
            " -0.84887469]\n",
            "[-0.7754048  -1.01203827  1.28273048  1.34299965  0.07062246 -2.0328585\n",
            " -0.84887469]\n",
            "[ 0.484628   -0.21198099 -0.81628303 -1.2119753  -1.30651542 -0.59137702\n",
            "  1.17803018]\n",
            "[ 0.484628   -1.01203827 -0.81628303 -1.2119753  -1.30651542 -0.59137702\n",
            "  1.17803018]\n",
            "[ 1.74466081  1.38813357  0.7579771   0.06551218 -0.27366201 -0.59137702\n",
            "  1.17803018]\n",
            "[-0.7754048   1.38813357 -0.29152966 -1.2119753   1.10347586  0.85010446\n",
            "  1.17803018]\n",
            "[ 1.74466081  0.58807629 -1.34103641 -1.2119753   1.10347586 -2.0328585\n",
            "  1.17803018]\n",
            "[-0.7754048  -1.01203827  0.7579771   0.06551218 -0.27366201 -0.59137702\n",
            " -0.84887469]\n",
            "[-0.7754048   1.38813357 -0.81628303 -1.2119753  -0.96223095  0.85010446\n",
            "  1.17803018]\n",
            "[-0.7754048   1.38813357 -0.81628303  1.34299965  1.10347586  0.85010446\n",
            " -0.84887469]\n",
            "[-0.7754048  -0.21198099 -0.81628303 -1.2119753   1.10347586 -0.59137702\n",
            " -0.84887469]\n",
            "[-0.7754048   1.38813357 -1.34103641 -1.2119753  -1.30651542 -0.59137702\n",
            " -0.84887469]\n",
            "[-0.7754048   1.38813357  1.28273048  1.34299965  1.10347586  0.85010446\n",
            " -0.84887469]\n",
            "[ 0.484628   -0.21198099 -1.34103641  1.34299965 -0.96223095  0.85010446\n",
            " -0.84887469]\n",
            "[ 1.74466081 -0.21198099 -0.81628303 -1.2119753  -1.30651542  0.85010446\n",
            "  1.17803018]\n",
            "[ 1.74466081  1.38813357  0.7579771   1.34299965 -1.30651542 -0.59137702\n",
            "  1.17803018]\n",
            "[-0.7754048  -1.01203827  1.28273048 -1.2119753   1.10347586 -0.59137702\n",
            " -0.84887469]\n",
            "[-0.7754048   1.38813357 -0.29152966  0.06551218  1.10347586 -0.59137702\n",
            "  1.17803018]\n",
            "[-0.7754048   1.38813357 -0.81628303 -1.2119753  -1.30651542  0.85010446\n",
            "  1.17803018]\n"
          ]
        }
      ]
    },
    {
      "cell_type": "code",
      "source": [
        "cov_mat = np.cov(df.T)\n",
        "\n",
        "eigen_vals, eigen_vects = np.linalg.eigh(cov_mat)\n",
        "print('Eigen values:\\n')\n",
        "print(eigen_vals)\n",
        "print('Eigen vectors:\\n')\n",
        "print(eigen_vects)\n",
        "\n",
        "propor_ith = [(i/np.sum(eigen_vals)) for i in (sorted(eigen_vals, reverse=True))]\n",
        "propor_k = np.cumsum(propor_ith)\n",
        "\n",
        "plt.bar(range(1, 8), propor_ith, label='The kth Principal Component')\n",
        "plt.step(range(1, 8), propor_k, label='The first k Principal Components')\n",
        "plt.xlabel('Components')\n",
        "plt.ylabel('Proportion of variation')\n",
        "plt.legend(loc='best')\n",
        "plt.show()\n"
      ],
      "metadata": {
        "id": "2jQUCtNOu2cz",
        "colab": {
          "base_uri": "https://localhost:8080/",
          "height": 626
        },
        "outputId": "f46bddaa-5c28-4b90-be85-fba8f079dfda"
      },
      "execution_count": null,
      "outputs": [
        {
          "output_type": "stream",
          "name": "stdout",
          "text": [
            "Eigen values:\n",
            "\n",
            "[0.15488115 0.44497605 0.53776252 0.64582281 1.57724899 3.4176698\n",
            " 8.95373418]\n",
            "Eigen vectors:\n",
            "\n",
            "[[ 0.00675102 -0.31910472 -0.7050468  -0.61038348 -0.15102826  0.02884625\n",
            "  -0.06946926]\n",
            " [-0.03744693  0.04825858 -0.22478019  0.00465185  0.95687722  0.17337927\n",
            "   0.00683226]\n",
            " [ 0.05193809  0.04341456 -0.02742164 -0.10389369  0.1636014  -0.94632221\n",
            "   0.24815442]\n",
            " [ 0.34272356  0.10009267 -0.61529077  0.68445373 -0.13352183 -0.03613501\n",
            "   0.07955228]\n",
            " [-0.00736565 -0.01226678  0.01145341 -0.09226045 -0.04915463  0.25253225\n",
            "   0.96175017]\n",
            " [ 0.07554821 -0.93920781  0.17015256  0.26549971  0.0975541  -0.0483602\n",
            "   0.02972648]\n",
            " [ 0.93414847  0.04096516  0.20967863 -0.26294006  0.07106316  0.07851628\n",
            "  -0.03702853]]\n"
          ]
        },
        {
          "output_type": "display_data",
          "data": {
            "text/plain": [
              "<Figure size 432x288 with 1 Axes>"
            ],
            "image/png": "[encoded data removed]"
          },
          "metadata": {
            "needs_background": "light"
          }
        }
      ]
    },
    {
      "cell_type": "code",
      "source": [
        "my_pca = PCA(n_components=2)\n",
        "new_scale_my_data = scale_my_data[np.isfinite(scale_my_data).all(1)]\n",
        "principalComponents_mine = my_pca.fit_transform(new_scale_my_data)\n",
        "print(principalComponents_mine.shape)"
      ],
      "metadata": {
        "id": "D9BE9lAvbY1_",
        "colab": {
          "base_uri": "https://localhost:8080/"
        },
        "outputId": "33c0155d-3d30-4362-aa96-55e24c3632c9"
      },
      "execution_count": null,
      "outputs": [
        {
          "output_type": "stream",
          "name": "stdout",
          "text": [
            "(117, 2)\n"
          ]
        }
      ]
    },
    {
      "cell_type": "code",
      "source": [
        "dend = shc.dendrogram(shc.linkage(principalComponents_mine, method='ward'))\n",
        "plt.axhline(10, linestyle='--')\n",
        "plt.xlabel('sample indice')\n",
        "plt.ylabel('dissimilarity metric cluster')"
      ],
      "metadata": {
        "id": "_re26e7Xbbun",
        "colab": {
          "base_uri": "https://localhost:8080/",
          "height": 296
        },
        "outputId": "27693837-1d03-4665-8945-891301e0d6a3"
      },
      "execution_count": null,
      "outputs": [
        {
          "output_type": "execute_result",
          "data": {
            "text/plain": [
              "Text(0, 0.5, 'dissimilarity metric cluster')"
            ]
          },
          "metadata": {},
          "execution_count": 22
        },
        {
          "output_type": "display_data",
          "data": {
            "text/plain": [
              "<Figure size 432x288 with 1 Axes>"
            ],
            "image/png": "[encoded data removed]"
          },
          "metadata": {
            "needs_background": "light"
          }
        }
      ]
    },
    {
      "cell_type": "code",
      "source": [
        "cluster = AgglomerativeClustering(n_clusters=4, affinity='euclidean', linkage='ward')\n",
        "labels = cluster.fit_predict(principalComponents_mine)\n",
        "\n",
        "_plot_kmean_scatter(principalComponents_mine, labels)"
      ],
      "metadata": {
        "id": "yCrj6RNJbegw",
        "colab": {
          "base_uri": "https://localhost:8080/",
          "height": 571
        },
        "outputId": "eea1f625-cdd8-48c8-a481-8f04dfb20501"
      },
      "execution_count": null,
      "outputs": [
        {
          "output_type": "stream",
          "name": "stderr",
          "text": [
            "<ipython-input-9-f01e928d6b9c>:8: DeprecationWarning: `np.int` is a deprecated alias for the builtin `int`. To silence this warning, use `int` by itself. Doing this will not modify any behavior and is safe. When replacing `np.int`, you may wish to use e.g. `np.int64` or `np.int32` to specify the precision. If you wish to review your current use, check the release note link for additional information.\n",
            "Deprecated in NumPy 1.20; for more details and guidance: https://numpy.org/devdocs/release/1.20.0-notes.html#deprecations\n",
            "  sc = ax.scatter(X[:,0], X[:,1], lw=0, s=150, c=palette[labels.astype(np.int)])\n"
          ]
        },
        {
          "output_type": "display_data",
          "data": {
            "text/plain": [
              "<Figure size 864x576 with 1 Axes>"
            ],
            "image/png": "[encoded data removed]"
          },
          "metadata": {
            "needs_background": "light"
          }
        }
      ]
    },
    {
      "cell_type": "code",
      "source": [
        "principalComponents_mine"
      ],
      "metadata": {
        "id": "ZEDaclBRDFku",
        "colab": {
          "base_uri": "https://localhost:8080/"
        },
        "outputId": "b1bc2258-fdc8-4bf9-ca9a-6684516dc493"
      },
      "execution_count": null,
      "outputs": [
        {
          "output_type": "execute_result",
          "data": {
            "text/plain": [
              "array([[ 0.46437696,  2.47373246],\n",
              "       [ 1.46495346,  0.29078745],\n",
              "       [-1.12060906,  1.72692806],\n",
              "       [-1.17724944, -0.68743984],\n",
              "       [-0.21070868,  0.11104568],\n",
              "       [ 1.53394311,  1.33151847],\n",
              "       [-0.83164462, -0.48097496],\n",
              "       [ 0.08499096, -1.30605442],\n",
              "       [ 0.54695651,  1.39053841],\n",
              "       [-1.50442156, -0.30303354],\n",
              "       [ 0.80944383, -0.5780747 ],\n",
              "       [-1.50476878, -0.14000385],\n",
              "       [ 1.08064663, -1.24550047],\n",
              "       [-0.80355417, -0.75787722],\n",
              "       [-2.28240888,  1.40174305],\n",
              "       [-0.17677645,  1.21220483],\n",
              "       [-0.78187346, -1.44648578],\n",
              "       [-0.46655627, -0.95092887],\n",
              "       [ 0.44473394, -0.31463006],\n",
              "       [-1.33023185, -0.43975017],\n",
              "       [ 1.63971483,  0.60554754],\n",
              "       [ 1.03731231, -0.90785934],\n",
              "       [-0.26245442,  0.48091891],\n",
              "       [-1.41686726, -0.22716834],\n",
              "       [ 2.20798615,  1.27899438],\n",
              "       [-0.13391784,  1.90038267],\n",
              "       [ 0.41577645, -0.25672997],\n",
              "       [ 0.06546886,  0.60267916],\n",
              "       [ 1.30467451, -1.05319002],\n",
              "       [-0.71056202,  0.02685314],\n",
              "       [-1.62543715,  0.48367626],\n",
              "       [-1.96933337, -0.16048982],\n",
              "       [ 1.41157924, -0.52682   ],\n",
              "       [ 0.740974  , -1.23677386],\n",
              "       [-0.67440624,  0.30956187],\n",
              "       [-2.02229336,  0.15341094],\n",
              "       [-2.50776987, -0.21052264],\n",
              "       [ 0.29189586,  2.1727479 ],\n",
              "       [-2.05696777,  1.38882686],\n",
              "       [-1.48755035,  0.39489487],\n",
              "       [-1.60863295, -0.11293323],\n",
              "       [ 2.18856756, -0.89486174],\n",
              "       [-2.64565667, -0.12174125],\n",
              "       [-0.95359426, -1.20780522],\n",
              "       [ 1.91371284, -0.42885193],\n",
              "       [ 2.75783788, -1.55814974],\n",
              "       [-1.33144611, -0.49572264],\n",
              "       [-2.64565667, -0.12174125],\n",
              "       [-0.12439204,  2.58834623],\n",
              "       [-1.35292969, -1.29064696],\n",
              "       [-1.84825077,  0.34733828],\n",
              "       [ 1.5171389 ,  1.92812795],\n",
              "       [ 1.48141045, -0.14279235],\n",
              "       [-2.02229336,  0.15341094],\n",
              "       [-0.74232988, -0.77336609],\n",
              "       [ 2.41400866, -0.90777793],\n",
              "       [ 2.53239677, -1.54523356],\n",
              "       [-1.35292969, -1.29064696],\n",
              "       [-0.34582089, -0.28007108],\n",
              "       [-0.21070868,  0.11104568],\n",
              "       [ 0.13312053, -0.53932613],\n",
              "       [-0.45052662,  0.4037029 ],\n",
              "       [ 0.10506131, -0.30590345],\n",
              "       [-0.33179128, -0.39678242],\n",
              "       [-0.45287388, -0.90461052],\n",
              "       [-0.34975304,  0.97608054],\n",
              "       [ 2.30695567, -1.53231737],\n",
              "       [-0.78167449, -1.70768488],\n",
              "       [-1.0044211 , -0.54948497],\n",
              "       [-0.23012727, -2.06281043],\n",
              "       [ 2.55181536,  0.62862256],\n",
              "       [ 0.91525917,  2.44790009],\n",
              "       [-0.34975304,  0.97608054],\n",
              "       [ 0.01349476,  2.49956484],\n",
              "       [ 0.54678095, -0.8056703 ],\n",
              "       [ 2.55181536,  0.62862256],\n",
              "       [-2.28240888,  1.40174305],\n",
              "       [-0.07047461,  1.33057772],\n",
              "       [ 0.29237206, -1.19716597],\n",
              "       [-0.53722904, -0.67825316],\n",
              "       [-0.17838154, -2.43268366],\n",
              "       [ 1.84473835, -0.24448992],\n",
              "       [-0.34688689, -0.23787413],\n",
              "       [ 2.18856756, -0.89486174],\n",
              "       [-0.78167449, -1.70768488],\n",
              "       [-0.78167449, -1.70768488],\n",
              "       [-0.2237393 , -1.10897782],\n",
              "       [-1.59647966,  0.42577616],\n",
              "       [ 1.5171389 ,  1.92812795],\n",
              "       [ 2.43073276,  0.12079446],\n",
              "       [ 0.72107921, -0.04071612],\n",
              "       [ 0.51733696,  2.15983171],\n",
              "       [-2.64565667, -0.12174125],\n",
              "       [ 0.49463912,  1.30893492],\n",
              "       [-0.43606968, -1.50122   ],\n",
              "       [ 0.61310734, -0.95370259],\n",
              "       [ 0.95693655, -1.6040744 ],\n",
              "       [-1.05708572, -0.46805877],\n",
              "       [-1.84825077,  0.34733828],\n",
              "       [-1.57695757, -1.48295741],\n",
              "       [ 2.30965016, -0.38703364],\n",
              "       [ 2.18856756, -0.89486174],\n",
              "       [ 1.18229754,  0.00819128],\n",
              "       [ 0.68981807,  2.46081628],\n",
              "       [ 2.36231478, -0.46845983],\n",
              "       [-0.91778569, -0.7620668 ],\n",
              "       [ 1.74258   ,  1.91521176],\n",
              "       [-1.38064447,  1.35007829],\n",
              "       [-0.0485637 ,  0.33729047],\n",
              "       [ 1.38425024,  0.71856077],\n",
              "       [-2.28240888,  1.40174305],\n",
              "       [-0.22621852, -0.86155424],\n",
              "       [ 2.32596003, -0.48996946],\n",
              "       [ 0.97259464, -0.53330507],\n",
              "       [-1.0714107 , -0.11887287],\n",
              "       [ 0.3939741 ,  1.63822809],\n",
              "       [ 1.88046681,  1.82643038]])"
            ]
          },
          "metadata": {},
          "execution_count": 24
        }
      ]
    },
    {
      "cell_type": "code",
      "source": [
        "cluster = AgglomerativeClustering(n_clusters=4, affinity='euclidean', linkage='single')\n",
        "labels = cluster.fit_predict(principalComponents_mine)\n",
        "\n",
        "_plot_kmean_scatter(principalComponents_mine, labels)"
      ],
      "metadata": {
        "id": "EUzNlP-RB-MY",
        "colab": {
          "base_uri": "https://localhost:8080/",
          "height": 571
        },
        "outputId": "7aab1750-54da-41cd-ba18-bed8e4303176"
      },
      "execution_count": null,
      "outputs": [
        {
          "output_type": "stream",
          "name": "stderr",
          "text": [
            "<ipython-input-9-f01e928d6b9c>:8: DeprecationWarning: `np.int` is a deprecated alias for the builtin `int`. To silence this warning, use `int` by itself. Doing this will not modify any behavior and is safe. When replacing `np.int`, you may wish to use e.g. `np.int64` or `np.int32` to specify the precision. If you wish to review your current use, check the release note link for additional information.\n",
            "Deprecated in NumPy 1.20; for more details and guidance: https://numpy.org/devdocs/release/1.20.0-notes.html#deprecations\n",
            "  sc = ax.scatter(X[:,0], X[:,1], lw=0, s=150, c=palette[labels.astype(np.int)])\n"
          ]
        },
        {
          "output_type": "display_data",
          "data": {
            "text/plain": [
              "<Figure size 864x576 with 1 Axes>"
            ],
            "image/png": "[encoded data removed]"
          },
          "metadata": {
            "needs_background": "light"
          }
        }
      ]
    },
    {
      "cell_type": "code",
      "source": [
        "cluster = AgglomerativeClustering(n_clusters=4, affinity='euclidean', linkage='complete')\n",
        "labels = cluster.fit_predict(principalComponents_mine)\n",
        "\n",
        "_plot_kmean_scatter(principalComponents_mine, labels)"
      ],
      "metadata": {
        "id": "n2aDUx0Wnvw-",
        "colab": {
          "base_uri": "https://localhost:8080/",
          "height": 571
        },
        "outputId": "7bdcca08-7bbe-46d4-c821-6ef056458108"
      },
      "execution_count": null,
      "outputs": [
        {
          "output_type": "stream",
          "name": "stderr",
          "text": [
            "<ipython-input-9-f01e928d6b9c>:8: DeprecationWarning: `np.int` is a deprecated alias for the builtin `int`. To silence this warning, use `int` by itself. Doing this will not modify any behavior and is safe. When replacing `np.int`, you may wish to use e.g. `np.int64` or `np.int32` to specify the precision. If you wish to review your current use, check the release note link for additional information.\n",
            "Deprecated in NumPy 1.20; for more details and guidance: https://numpy.org/devdocs/release/1.20.0-notes.html#deprecations\n",
            "  sc = ax.scatter(X[:,0], X[:,1], lw=0, s=150, c=palette[labels.astype(np.int)])\n"
          ]
        },
        {
          "output_type": "display_data",
          "data": {
            "text/plain": [
              "<Figure size 864x576 with 1 Axes>"
            ],
            "image/png": "[encoded data removed]"
          },
          "metadata": {
            "needs_background": "light"
          }
        }
      ]
    },
    {
      "cell_type": "code",
      "source": [
        "cluster = AgglomerativeClustering(n_clusters=4, affinity='euclidean', linkage='average')\n",
        "labels = cluster.fit_predict(principalComponents_mine)\n",
        "\n",
        "_plot_kmean_scatter(principalComponents_mine, labels)"
      ],
      "metadata": {
        "id": "mm3tjvEJnx1p",
        "colab": {
          "base_uri": "https://localhost:8080/",
          "height": 571
        },
        "outputId": "0964bc91-87e1-49ae-f15a-fed31c7b33b9"
      },
      "execution_count": null,
      "outputs": [
        {
          "output_type": "stream",
          "name": "stderr",
          "text": [
            "<ipython-input-9-f01e928d6b9c>:8: DeprecationWarning: `np.int` is a deprecated alias for the builtin `int`. To silence this warning, use `int` by itself. Doing this will not modify any behavior and is safe. When replacing `np.int`, you may wish to use e.g. `np.int64` or `np.int32` to specify the precision. If you wish to review your current use, check the release note link for additional information.\n",
            "Deprecated in NumPy 1.20; for more details and guidance: https://numpy.org/devdocs/release/1.20.0-notes.html#deprecations\n",
            "  sc = ax.scatter(X[:,0], X[:,1], lw=0, s=150, c=palette[labels.astype(np.int)])\n"
          ]
        },
        {
          "output_type": "display_data",
          "data": {
            "text/plain": [
              "<Figure size 864x576 with 1 Axes>"
            ],
            "image/png": "[encoded data removed]"
          },
          "metadata": {
            "needs_background": "light"
          }
        }
      ]
    },
    {
      "cell_type": "code",
      "source": [
        "df"
      ],
      "metadata": {
        "id": "DrVoPr9ZO7UQ",
        "colab": {
          "base_uri": "https://localhost:8080/",
          "height": 424
        },
        "outputId": "d1cfdc41-7c00-4400-e934-c7cb3f2ed663"
      },
      "execution_count": null,
      "outputs": [
        {
          "output_type": "execute_result",
          "data": {
            "text/plain": [
              "     Gender  Year of Studying  Operating time per day  Reason  Category  \\\n",
              "0         0                 4                       3       0         7   \n",
              "1         0                 3                       0       1         4   \n",
              "2         0                 4                       2       1         8   \n",
              "3         1                 1                       4       1         5   \n",
              "4         1                 4                       4       1         3   \n",
              "..      ...               ...                     ...     ...       ...   \n",
              "112       2                 2                       1       0         0   \n",
              "113       2                 4                       4       2         0   \n",
              "114       0                 1                       5       0         7   \n",
              "115       0                 4                       2       1         7   \n",
              "116       0                 4                       1       0         0   \n",
              "\n",
              "     Device  Alone/Friend  \n",
              "0         2             1  \n",
              "1         0             1  \n",
              "2         2             0  \n",
              "3         2             0  \n",
              "4         1             0  \n",
              "..      ...           ...  \n",
              "112       2             1  \n",
              "113       1             1  \n",
              "114       1             0  \n",
              "115       1             1  \n",
              "116       2             1  \n",
              "\n",
              "[117 rows x 7 columns]"
            ],
            "text/html": [
              "\n",
              "  <div id=\"df-8a1cd451-ab4d-440d-8e10-c2790d0e9486\">\n",
              "    <div class=\"colab-df-container\">\n",
              "      <div>\n",
              "<style scoped>\n",
              "    .dataframe tbody tr th:only-of-type {\n",
              "        vertical-align: middle;\n",
              "    }\n",
              "\n",
              "    .dataframe tbody tr th {\n",
              "        vertical-align: top;\n",
              "    }\n",
              "\n",
              "    .dataframe thead th {\n",
              "        text-align: right;\n",
              "    }\n",
              "</style>\n",
              "<table border=\"1\" class=\"dataframe\">\n",
              "  <thead>\n",
              "    <tr style=\"text-align: right;\">\n",
              "      <th></th>\n",
              "      <th>Gender</th>\n",
              "      <th>Year of Studying</th>\n",
              "      <th>Operating time per day</th>\n",
              "      <th>Reason</th>\n",
              "      <th>Category</th>\n",
              "      <th>Device</th>\n",
              "      <th>Alone/Friend</th>\n",
              "    </tr>\n",
              "  </thead>\n",
              "  <tbody>\n",
              "    <tr>\n",
              "      <th>0</th>\n",
              "      <td>0</td>\n",
              "      <td>4</td>\n",
              "      <td>3</td>\n",
              "      <td>0</td>\n",
              "      <td>7</td>\n",
              "      <td>2</td>\n",
              "      <td>1</td>\n",
              "    </tr>\n",
              "    <tr>\n",
              "      <th>1</th>\n",
              "      <td>0</td>\n",
              "      <td>3</td>\n",
              "      <td>0</td>\n",
              "      <td>1</td>\n",
              "      <td>4</td>\n",
              "      <td>0</td>\n",
              "      <td>1</td>\n",
              "    </tr>\n",
              "    <tr>\n",
              "      <th>2</th>\n",
              "      <td>0</td>\n",
              "      <td>4</td>\n",
              "      <td>2</td>\n",
              "      <td>1</td>\n",
              "      <td>8</td>\n",
              "      <td>2</td>\n",
              "      <td>0</td>\n",
              "    </tr>\n",
              "    <tr>\n",
              "      <th>3</th>\n",
              "      <td>1</td>\n",
              "      <td>1</td>\n",
              "      <td>4</td>\n",
              "      <td>1</td>\n",
              "      <td>5</td>\n",
              "      <td>2</td>\n",
              "      <td>0</td>\n",
              "    </tr>\n",
              "    <tr>\n",
              "      <th>4</th>\n",
              "      <td>1</td>\n",
              "      <td>4</td>\n",
              "      <td>4</td>\n",
              "      <td>1</td>\n",
              "      <td>3</td>\n",
              "      <td>1</td>\n",
              "      <td>0</td>\n",
              "    </tr>\n",
              "    <tr>\n",
              "      <th>...</th>\n",
              "      <td>...</td>\n",
              "      <td>...</td>\n",
              "      <td>...</td>\n",
              "      <td>...</td>\n",
              "      <td>...</td>\n",
              "      <td>...</td>\n",
              "      <td>...</td>\n",
              "    </tr>\n",
              "    <tr>\n",
              "      <th>112</th>\n",
              "      <td>2</td>\n",
              "      <td>2</td>\n",
              "      <td>1</td>\n",
              "      <td>0</td>\n",
              "      <td>0</td>\n",
              "      <td>2</td>\n",
              "      <td>1</td>\n",
              "    </tr>\n",
              "    <tr>\n",
              "      <th>113</th>\n",
              "      <td>2</td>\n",
              "      <td>4</td>\n",
              "      <td>4</td>\n",
              "      <td>2</td>\n",
              "      <td>0</td>\n",
              "      <td>1</td>\n",
              "      <td>1</td>\n",
              "    </tr>\n",
              "    <tr>\n",
              "      <th>114</th>\n",
              "      <td>0</td>\n",
              "      <td>1</td>\n",
              "      <td>5</td>\n",
              "      <td>0</td>\n",
              "      <td>7</td>\n",
              "      <td>1</td>\n",
              "      <td>0</td>\n",
              "    </tr>\n",
              "    <tr>\n",
              "      <th>115</th>\n",
              "      <td>0</td>\n",
              "      <td>4</td>\n",
              "      <td>2</td>\n",
              "      <td>1</td>\n",
              "      <td>7</td>\n",
              "      <td>1</td>\n",
              "      <td>1</td>\n",
              "    </tr>\n",
              "    <tr>\n",
              "      <th>116</th>\n",
              "      <td>0</td>\n",
              "      <td>4</td>\n",
              "      <td>1</td>\n",
              "      <td>0</td>\n",
              "      <td>0</td>\n",
              "      <td>2</td>\n",
              "      <td>1</td>\n",
              "    </tr>\n",
              "  </tbody>\n",
              "</table>\n",
              "<p>117 rows × 7 columns</p>\n",
              "</div>\n",
              "      <button class=\"colab-df-convert\" onclick=\"convertToInteractive('df-8a1cd451-ab4d-440d-8e10-c2790d0e9486')\"\n",
              "              title=\"Convert this dataframe to an interactive table.\"\n",
              "              style=\"display:none;\">\n",
              "        \n",
              "  <svg xmlns=\"http://www.w3.org/2000/svg\" height=\"24px\"viewBox=\"0 0 24 24\"\n",
              "       width=\"24px\">\n",
              "    <path d=\"M0 0h24v24H0V0z\" fill=\"none\"/>\n",
              "    <path d=\"M18.56 5.44l.94 2.06.94-2.06 2.06-.94-2.06-.94-.94-2.06-.94 2.06-2.06.94zm-11 1L8.5 8.5l.94-2.06 2.06-.94-2.06-.94L8.5 2.5l-.94 2.06-2.06.94zm10 10l.94 2.06.94-2.06 2.06-.94-2.06-.94-.94-2.06-.94 2.06-2.06.94z\"/><path d=\"M17.41 7.96l-1.37-1.37c-.4-.4-.92-.59-1.43-.59-.52 0-1.04.2-1.43.59L10.3 9.45l-7.72 7.72c-.78.78-.78 2.05 0 2.83L4 21.41c.39.39.9.59 1.41.59.51 0 1.02-.2 1.41-.59l7.78-7.78 2.81-2.81c.8-.78.8-2.07 0-2.86zM5.41 20L4 18.59l7.72-7.72 1.47 1.35L5.41 20z\"/>\n",
              "  </svg>\n",
              "      </button>\n",
              "      \n",
              "  <style>\n",
              "    .colab-df-container {\n",
              "      display:flex;\n",
              "      flex-wrap:wrap;\n",
              "      gap: 12px;\n",
              "    }\n",
              "\n",
              "    .colab-df-convert {\n",
              "      background-color: #E8F0FE;\n",
              "      border: none;\n",
              "      border-radius: 50%;\n",
              "      cursor: pointer;\n",
              "      display: none;\n",
              "      fill: #1967D2;\n",
              "      height: 32px;\n",
              "      padding: 0 0 0 0;\n",
              "      width: 32px;\n",
              "    }\n",
              "\n",
              "    .colab-df-convert:hover {\n",
              "      background-color: #E2EBFA;\n",
              "      box-shadow: 0px 1px 2px rgba(60, 64, 67, 0.3), 0px 1px 3px 1px rgba(60, 64, 67, 0.15);\n",
              "      fill: #174EA6;\n",
              "    }\n",
              "\n",
              "    [theme=dark] .colab-df-convert {\n",
              "      background-color: #3B4455;\n",
              "      fill: #D2E3FC;\n",
              "    }\n",
              "\n",
              "    [theme=dark] .colab-df-convert:hover {\n",
              "      background-color: #434B5C;\n",
              "      box-shadow: 0px 1px 3px 1px rgba(0, 0, 0, 0.15);\n",
              "      filter: drop-shadow(0px 1px 2px rgba(0, 0, 0, 0.3));\n",
              "      fill: #FFFFFF;\n",
              "    }\n",
              "  </style>\n",
              "\n",
              "      <script>\n",
              "        const buttonEl =\n",
              "          document.querySelector('#df-8a1cd451-ab4d-440d-8e10-c2790d0e9486 button.colab-df-convert');\n",
              "        buttonEl.style.display =\n",
              "          google.colab.kernel.accessAllowed ? 'block' : 'none';\n",
              "\n",
              "        async function convertToInteractive(key) {\n",
              "          const element = document.querySelector('#df-8a1cd451-ab4d-440d-8e10-c2790d0e9486');\n",
              "          const dataTable =\n",
              "            await google.colab.kernel.invokeFunction('convertToInteractive',\n",
              "                                                     [key], {});\n",
              "          if (!dataTable) return;\n",
              "\n",
              "          const docLinkHtml = 'Like what you see? Visit the ' +\n",
              "            '<a target=\"_blank\" href=https://colab.research.google.com/notebooks/data_table.ipynb>data table notebook</a>'\n",
              "            + ' to learn more about interactive tables.';\n",
              "          element.innerHTML = '';\n",
              "          dataTable['output_type'] = 'display_data';\n",
              "          await google.colab.output.renderOutput(dataTable, element);\n",
              "          const docLink = document.createElement('div');\n",
              "          docLink.innerHTML = docLinkHtml;\n",
              "          element.appendChild(docLink);\n",
              "        }\n",
              "      </script>\n",
              "    </div>\n",
              "  </div>\n",
              "  "
            ]
          },
          "metadata": {},
          "execution_count": 28
        }
      ]
    },
    {
      "cell_type": "markdown",
      "source": [
        "<h1>EDA</h1>"
      ],
      "metadata": {
        "id": "RfrQgT-XplyQ"
      }
    },
    {
      "cell_type": "code",
      "source": [],
      "metadata": {
        "id": "TLrf8D0Js0qd"
      },
      "execution_count": null,
      "outputs": []
    },
    {
      "cell_type": "code",
      "source": [
        "# male_af = df[df['Gender'] == 0][df['Alone/Friend'] == 0]\n",
        "# male_af.shape[0]\n",
        "\n",
        "\"\"\"\n",
        "GENDER X ALONE/FRIEND\n",
        "    GENDER: 0/1: Male/Female\n",
        "    ALONE/FRIEND: 0/1: Alone/Friend\n",
        "\"\"\"\n",
        "features = ['Male', 'Female', 'Others']\n",
        "gender_af = np.zeros((len(np.unique(df['Gender'])), len(np.unique(df['Alone/Friend']))))\n",
        "for row in range(len(gender_af)):\n",
        "    for col in range(len(gender_af[0])):\n",
        "        gender_af[row, col] = df[df['Gender'] == row][df['Alone/Friend'] == col].shape[0]\n",
        "\n",
        "print(gender_af)\n",
        "\n",
        "width = 0.2\n",
        "\n",
        "fig1 = plt.figure(1)\n",
        "plt.bar(np.arange(len(features)) , gender_af[0, 0], width=width, label='Male')\n",
        "plt.bar(np.arange(len(features)) + width, gender_af[1, 0], width=width, label='Female')\n",
        "plt.bar(np.arange(len(features)) + 2*width, gender_af[2, 0], width=width, label='Others')\n",
        "plt.ylabel('Number of each people want to play with friends/alone')\n",
        "plt.xlabel('Gender')\n",
        "plt.legend()\n",
        "\n",
        "fig2 = plt.figure(2)\n",
        "plt.bar(np.arange(len(features)) , gender_af[0, 1], width=width, label='Male')\n",
        "plt.bar(np.arange(len(features)) + width, gender_af[1, 1], width=width, label='Female')\n",
        "plt.bar(np.arange(len(features)) + 2*width, gender_af[2, 1], width=width, label='Others')\n",
        "plt.ylabel('Number of people want to play with friends/alone')\n",
        "plt.xlabel('Gender')\n",
        "plt.legend()\n",
        "\n",
        "\n",
        "plt.show()"
      ],
      "metadata": {
        "id": "G2-Ks00nptH_",
        "colab": {
          "base_uri": "https://localhost:8080/",
          "height": 672
        },
        "outputId": "bb4de94d-e29f-4900-c472-9f440cf15337"
      },
      "execution_count": null,
      "outputs": [
        {
          "output_type": "stream",
          "name": "stderr",
          "text": [
            "<ipython-input-29-a7488222bd1d>:13: UserWarning: Boolean Series key will be reindexed to match DataFrame index.\n",
            "  gender_af[row, col] = df[df['Gender'] == row][df['Alone/Friend'] == col].shape[0]\n"
          ]
        },
        {
          "output_type": "stream",
          "name": "stdout",
          "text": [
            "[[42. 26.]\n",
            " [14. 12.]\n",
            " [12. 11.]]\n"
          ]
        },
        {
          "output_type": "display_data",
          "data": {
            "text/plain": [
              "<Figure size 432x288 with 1 Axes>"
            ],
            "image/png": "[encoded data removed]"
          },
          "metadata": {
            "needs_background": "light"
          }
        },
        {
          "output_type": "display_data",
          "data": {
            "text/plain": [
              "<Figure size 432x288 with 1 Axes>"
            ],
            "image/png": "[encoded data removed]"
          },
          "metadata": {
            "needs_background": "light"
          }
        }
      ]
    },
    {
      "cell_type": "code",
      "source": [
        "Z = np.array(df.iloc[: ,1 : 3]).astype(np.float32)"
      ],
      "metadata": {
        "id": "Moim4Q_NCJFc"
      },
      "execution_count": null,
      "outputs": []
    },
    {
      "cell_type": "code",
      "source": [
        "Z"
      ],
      "metadata": {
        "id": "fIMnOIP0CXxS",
        "colab": {
          "base_uri": "https://localhost:8080/"
        },
        "outputId": "68288fd8-d8ff-4384-8cc9-64d2dab276ac"
      },
      "execution_count": null,
      "outputs": [
        {
          "output_type": "execute_result",
          "data": {
            "text/plain": [
              "array([[4., 3.],\n",
              "       [3., 0.],\n",
              "       [4., 2.],\n",
              "       [1., 4.],\n",
              "       [4., 4.],\n",
              "       [3., 2.],\n",
              "       [1., 4.],\n",
              "       [2., 0.],\n",
              "       [4., 5.],\n",
              "       [2., 2.],\n",
              "       [4., 1.],\n",
              "       [1., 4.],\n",
              "       [2., 0.],\n",
              "       [1., 5.],\n",
              "       [4., 5.],\n",
              "       [3., 1.],\n",
              "       [1., 2.],\n",
              "       [2., 0.],\n",
              "       [2., 0.],\n",
              "       [1., 1.],\n",
              "       [2., 0.],\n",
              "       [1., 0.],\n",
              "       [4., 4.],\n",
              "       [2., 1.],\n",
              "       [4., 1.],\n",
              "       [4., 1.],\n",
              "       [3., 0.],\n",
              "       [2., 0.],\n",
              "       [2., 0.],\n",
              "       [2., 4.],\n",
              "       [2., 5.],\n",
              "       [1., 2.],\n",
              "       [1., 2.],\n",
              "       [2., 0.],\n",
              "       [3., 1.],\n",
              "       [1., 5.],\n",
              "       [1., 5.],\n",
              "       [4., 1.],\n",
              "       [4., 4.],\n",
              "       [2., 5.],\n",
              "       [1., 5.],\n",
              "       [1., 1.],\n",
              "       [1., 5.],\n",
              "       [1., 5.],\n",
              "       [2., 0.],\n",
              "       [1., 0.],\n",
              "       [1., 4.],\n",
              "       [1., 5.],\n",
              "       [4., 5.],\n",
              "       [1., 5.],\n",
              "       [2., 2.],\n",
              "       [4., 2.],\n",
              "       [1., 2.],\n",
              "       [1., 5.],\n",
              "       [2., 0.],\n",
              "       [1., 0.],\n",
              "       [1., 1.],\n",
              "       [1., 5.],\n",
              "       [2., 2.],\n",
              "       [4., 4.],\n",
              "       [4., 4.],\n",
              "       [2., 5.],\n",
              "       [2., 0.],\n",
              "       [3., 4.],\n",
              "       [2., 4.],\n",
              "       [1., 5.],\n",
              "       [1., 2.],\n",
              "       [1., 4.],\n",
              "       [2., 4.],\n",
              "       [1., 4.],\n",
              "       [4., 1.],\n",
              "       [4., 1.],\n",
              "       [1., 5.],\n",
              "       [4., 5.],\n",
              "       [4., 4.],\n",
              "       [4., 1.],\n",
              "       [4., 5.],\n",
              "       [4., 5.],\n",
              "       [1., 0.],\n",
              "       [2., 2.],\n",
              "       [1., 4.],\n",
              "       [1., 1.],\n",
              "       [3., 1.],\n",
              "       [1., 1.],\n",
              "       [1., 4.],\n",
              "       [1., 4.],\n",
              "       [1., 0.],\n",
              "       [1., 5.],\n",
              "       [4., 2.],\n",
              "       [3., 1.],\n",
              "       [2., 1.],\n",
              "       [4., 0.],\n",
              "       [1., 5.],\n",
              "       [4., 4.],\n",
              "       [1., 4.],\n",
              "       [1., 4.],\n",
              "       [1., 4.],\n",
              "       [1., 5.],\n",
              "       [2., 2.],\n",
              "       [1., 5.],\n",
              "       [2., 1.],\n",
              "       [1., 1.],\n",
              "       [4., 4.],\n",
              "       [4., 2.],\n",
              "       [3., 0.],\n",
              "       [1., 4.],\n",
              "       [4., 1.],\n",
              "       [4., 1.],\n",
              "       [2., 1.],\n",
              "       [4., 0.],\n",
              "       [4., 5.],\n",
              "       [2., 0.],\n",
              "       [2., 1.],\n",
              "       [4., 4.],\n",
              "       [1., 5.],\n",
              "       [4., 2.],\n",
              "       [4., 1.]], dtype=float32)"
            ]
          },
          "metadata": {},
          "execution_count": 31
        }
      ]
    },
    {
      "cell_type": "code",
      "source": [
        "\n",
        "sns.distplot(Z)"
      ],
      "metadata": {
        "id": "dJIplKCbPm8H",
        "colab": {
          "base_uri": "https://localhost:8080/",
          "height": 337
        },
        "outputId": "8aa80c57-1050-41df-8062-09befe543aaa"
      },
      "execution_count": null,
      "outputs": [
        {
          "output_type": "stream",
          "name": "stderr",
          "text": [
            "/usr/local/lib/python3.8/dist-packages/seaborn/distributions.py:2619: FutureWarning: `distplot` is a deprecated function and will be removed in a future version. Please adapt your code to use either `displot` (a figure-level function with similar flexibility) or `histplot` (an axes-level function for histograms).\n",
            "  warnings.warn(msg, FutureWarning)\n"
          ]
        },
        {
          "output_type": "execute_result",
          "data": {
            "text/plain": [
              "<matplotlib.axes._subplots.AxesSubplot at 0x7f58bfaba670>"
            ]
          },
          "metadata": {},
          "execution_count": 32
        },
        {
          "output_type": "display_data",
          "data": {
            "text/plain": [
              "<Figure size 432x288 with 1 Axes>"
            ],
            "image/png": "[encoded data removed]"
          },
          "metadata": {
            "needs_background": "light"
          }
        }
      ]
    },
    {
      "cell_type": "code",
      "source": [
        "F = np.array(df.iloc[: ,3 : 7]).astype(np.float32)"
      ],
      "metadata": {
        "id": "uH2-qun4t24J"
      },
      "execution_count": null,
      "outputs": []
    },
    {
      "cell_type": "code",
      "source": [
        "sns.distplot(F)"
      ],
      "metadata": {
        "id": "f4H_K-DauQnx",
        "colab": {
          "base_uri": "https://localhost:8080/",
          "height": 340
        },
        "outputId": "358585ef-4000-4574-af61-c9a27b332a27"
      },
      "execution_count": null,
      "outputs": [
        {
          "output_type": "stream",
          "name": "stderr",
          "text": [
            "/usr/local/lib/python3.8/dist-packages/seaborn/distributions.py:2619: FutureWarning: `distplot` is a deprecated function and will be removed in a future version. Please adapt your code to use either `displot` (a figure-level function with similar flexibility) or `histplot` (an axes-level function for histograms).\n",
            "  warnings.warn(msg, FutureWarning)\n"
          ]
        },
        {
          "output_type": "execute_result",
          "data": {
            "text/plain": [
              "<matplotlib.axes._subplots.AxesSubplot at 0x7f58bfa17c70>"
            ]
          },
          "metadata": {},
          "execution_count": 34
        },
        {
          "output_type": "display_data",
          "data": {
            "text/plain": [
              "<Figure size 432x288 with 1 Axes>"
            ],
            "image/png": "[encoded data removed]"
          },
          "metadata": {
            "needs_background": "light"
          }
        }
      ]
    },
    {
      "cell_type": "code",
      "source": [
        "from sklearn.cluster import KMeans\n",
        "wcss = []\n",
        "for i in range(1, 118):\n",
        "    kmeans = KMeans(n_clusters = i, init = 'k-means++', random_state = 42)\n",
        "    kmeans.fit(df)\n",
        "    wcss.append(kmeans.inertia_)\n",
        "plt.plot(range(1, 118), wcss)\n",
        "plt.title('The Elbow Method')\n",
        "plt.xlabel('Number of clusters')\n",
        "plt.ylabel('WCSS')\n",
        "plt.show()"
      ],
      "metadata": {
        "id": "1LlQSMvo9CYc",
        "colab": {
          "base_uri": "https://localhost:8080/",
          "height": 816
        },
        "outputId": "9330da14-80d5-42c6-dcb6-07448961b9cb"
      },
      "execution_count": null,
      "outputs": [
        {
          "output_type": "stream",
          "name": "stderr",
          "text": [
            "<ipython-input-35-6b9dd46970a3>:5: ConvergenceWarning: Number of distinct clusters (102) found smaller than n_clusters (103). Possibly due to duplicate points in X.\n",
            "  kmeans.fit(df)\n",
            "<ipython-input-35-6b9dd46970a3>:5: ConvergenceWarning: Number of distinct clusters (102) found smaller than n_clusters (104). Possibly due to duplicate points in X.\n",
            "  kmeans.fit(df)\n",
            "<ipython-input-35-6b9dd46970a3>:5: ConvergenceWarning: Number of distinct clusters (102) found smaller than n_clusters (105). Possibly due to duplicate points in X.\n",
            "  kmeans.fit(df)\n",
            "<ipython-input-35-6b9dd46970a3>:5: ConvergenceWarning: Number of distinct clusters (102) found smaller than n_clusters (106). Possibly due to duplicate points in X.\n",
            "  kmeans.fit(df)\n",
            "<ipython-input-35-6b9dd46970a3>:5: ConvergenceWarning: Number of distinct clusters (102) found smaller than n_clusters (107). Possibly due to duplicate points in X.\n",
            "  kmeans.fit(df)\n",
            "<ipython-input-35-6b9dd46970a3>:5: ConvergenceWarning: Number of distinct clusters (102) found smaller than n_clusters (108). Possibly due to duplicate points in X.\n",
            "  kmeans.fit(df)\n",
            "<ipython-input-35-6b9dd46970a3>:5: ConvergenceWarning: Number of distinct clusters (102) found smaller than n_clusters (109). Possibly due to duplicate points in X.\n",
            "  kmeans.fit(df)\n",
            "<ipython-input-35-6b9dd46970a3>:5: ConvergenceWarning: Number of distinct clusters (102) found smaller than n_clusters (110). Possibly due to duplicate points in X.\n",
            "  kmeans.fit(df)\n",
            "<ipython-input-35-6b9dd46970a3>:5: ConvergenceWarning: Number of distinct clusters (102) found smaller than n_clusters (111). Possibly due to duplicate points in X.\n",
            "  kmeans.fit(df)\n",
            "<ipython-input-35-6b9dd46970a3>:5: ConvergenceWarning: Number of distinct clusters (102) found smaller than n_clusters (112). Possibly due to duplicate points in X.\n",
            "  kmeans.fit(df)\n",
            "<ipython-input-35-6b9dd46970a3>:5: ConvergenceWarning: Number of distinct clusters (102) found smaller than n_clusters (113). Possibly due to duplicate points in X.\n",
            "  kmeans.fit(df)\n",
            "<ipython-input-35-6b9dd46970a3>:5: ConvergenceWarning: Number of distinct clusters (102) found smaller than n_clusters (114). Possibly due to duplicate points in X.\n",
            "  kmeans.fit(df)\n",
            "<ipython-input-35-6b9dd46970a3>:5: ConvergenceWarning: Number of distinct clusters (102) found smaller than n_clusters (115). Possibly due to duplicate points in X.\n",
            "  kmeans.fit(df)\n",
            "<ipython-input-35-6b9dd46970a3>:5: ConvergenceWarning: Number of distinct clusters (102) found smaller than n_clusters (116). Possibly due to duplicate points in X.\n",
            "  kmeans.fit(df)\n",
            "<ipython-input-35-6b9dd46970a3>:5: ConvergenceWarning: Number of distinct clusters (102) found smaller than n_clusters (117). Possibly due to duplicate points in X.\n",
            "  kmeans.fit(df)\n"
          ]
        },
        {
          "output_type": "display_data",
          "data": {
            "text/plain": [
              "<Figure size 432x288 with 1 Axes>"
            ],
            "image/png": "[encoded data removed]"
          },
          "metadata": {
            "needs_background": "light"
          }
        }
      ]
    },
    {
      "cell_type": "code",
      "source": [
        "from sklearn.cluster import KMeans\n",
        "wcss = []\n",
        "for i in range(1, 10):\n",
        "    kmeans = KMeans(n_clusters = i, init = 'k-means++', random_state = 42)\n",
        "    kmeans.fit(df)\n",
        "    wcss.append(kmeans.inertia_)\n",
        "plt.plot(range(1, 10), wcss)\n",
        "plt.title('The Elbow Method')\n",
        "plt.xlabel('Number of clusters')\n",
        "plt.ylabel('WCSS')\n",
        "plt.show()"
      ],
      "metadata": {
        "id": "RkxfJp4cWqW1",
        "colab": {
          "base_uri": "https://localhost:8080/",
          "height": 295
        },
        "outputId": "8e2f6c7a-b3ce-4d6f-8279-b0f054eeb40f"
      },
      "execution_count": null,
      "outputs": [
        {
          "output_type": "display_data",
          "data": {
            "text/plain": [
              "<Figure size 432x288 with 1 Axes>"
            ],
            "image/png": "[encoded data removed]"
          },
          "metadata": {
            "needs_background": "light"
          }
        }
      ]
    },
    {
      "cell_type": "code",
      "source": [
        "wcss"
      ],
      "metadata": {
        "id": "v-OAW8mzAW-S",
        "colab": {
          "base_uri": "https://localhost:8080/"
        },
        "outputId": "2a265f87-26cf-4364-af50-84392b4624d4"
      },
      "execution_count": null,
      "outputs": [
        {
          "output_type": "execute_result",
          "data": {
            "text/plain": [
              "[1824.9230769230771,\n",
              " 981.990029325513,\n",
              " 761.8686217008799,\n",
              " 596.0567145862551,\n",
              " 520.7107215365281,\n",
              " 475.5372346189281,\n",
              " 414.8234071484071,\n",
              " 367.5449125264141,\n",
              " 338.17656926406926]"
            ]
          },
          "metadata": {},
          "execution_count": 37
        }
      ]
    },
    {
      "cell_type": "code",
      "source": [
        "from yellowbrick.cluster import KElbowVisualizer\n",
        "model = KMeans()\n",
        "# k is range of number of clusters.\n",
        "visualizer = KElbowVisualizer(model, k=(2,30), timings= True)\n",
        "visualizer.fit(df)        # Fit data to visualizer\n",
        "visualizer.show()        # Finalize and render figure"
      ],
      "metadata": {
        "id": "hWuUqRUs9yQr",
        "colab": {
          "base_uri": "https://localhost:8080/",
          "height": 393
        },
        "outputId": "399984ff-bd75-4202-c8ac-1268e2a1a260"
      },
      "execution_count": null,
      "outputs": [
        {
          "output_type": "display_data",
          "data": {
            "text/plain": [
              "<Figure size 576x396 with 2 Axes>"
            ],
            "image/png": "[encoded data removed]"
          },
          "metadata": {}
        },
        {
          "output_type": "execute_result",
          "data": {
            "text/plain": [
              "<matplotlib.axes._subplots.AxesSubplot at 0x7f58bc463be0>"
            ]
          },
          "metadata": {},
          "execution_count": 38
        }
      ]
    },
    {
      "cell_type": "code",
      "source": [
        "kmeans.inertia_"
      ],
      "metadata": {
        "id": "5IO_QBlM-Z37",
        "colab": {
          "base_uri": "https://localhost:8080/"
        },
        "outputId": "9ef03b33-8fbd-4768-eccb-ee3da21ef7c2"
      },
      "execution_count": null,
      "outputs": [
        {
          "output_type": "execute_result",
          "data": {
            "text/plain": [
              "338.17656926406926"
            ]
          },
          "metadata": {},
          "execution_count": 39
        }
      ]
    },
    {
      "cell_type": "code",
      "source": [
        "AgglomerativeX = AgglomerativeClustering(n_clusters=4, affinity = 'euclidean', linkage = 'ward')\n",
        "y_AgglomerativeX = AgglomerativeX.fit_predict(df)\n",
        "df['Cluster'] = y_AgglomerativeX"
      ],
      "metadata": {
        "id": "Z5r9FZXVfDGf"
      },
      "execution_count": null,
      "outputs": []
    },
    {
      "cell_type": "markdown",
      "source": [],
      "metadata": {
        "id": "dPFL511UZy8h"
      }
    },
    {
      "cell_type": "code",
      "source": [
        "df"
      ],
      "metadata": {
        "id": "x5Q7mx5hEy95",
        "colab": {
          "base_uri": "https://localhost:8080/",
          "height": 424
        },
        "outputId": "047bd6be-156e-4a45-ca7c-a81d31fea7be"
      },
      "execution_count": null,
      "outputs": [
        {
          "output_type": "execute_result",
          "data": {
            "text/plain": [
              "     Gender  Year of Studying  Operating time per day  Reason  Category  \\\n",
              "0         0                 4                       3       0         7   \n",
              "1         0                 3                       0       1         4   \n",
              "2         0                 4                       2       1         8   \n",
              "3         1                 1                       4       1         5   \n",
              "4         1                 4                       4       1         3   \n",
              "..      ...               ...                     ...     ...       ...   \n",
              "112       2                 2                       1       0         0   \n",
              "113       2                 4                       4       2         0   \n",
              "114       0                 1                       5       0         7   \n",
              "115       0                 4                       2       1         7   \n",
              "116       0                 4                       1       0         0   \n",
              "\n",
              "     Device  Alone/Friend  Cluster  \n",
              "0         2             1        0  \n",
              "1         0             1        0  \n",
              "2         2             0        0  \n",
              "3         2             0        1  \n",
              "4         1             0        1  \n",
              "..      ...           ...      ...  \n",
              "112       2             1        2  \n",
              "113       1             1        1  \n",
              "114       1             0        3  \n",
              "115       1             1        0  \n",
              "116       2             1        2  \n",
              "\n",
              "[117 rows x 8 columns]"
            ],
            "text/html": [
              "\n",
              "  <div id=\"df-70ec0305-faed-432e-a87a-75878943cf16\">\n",
              "    <div class=\"colab-df-container\">\n",
              "      <div>\n",
              "<style scoped>\n",
              "    .dataframe tbody tr th:only-of-type {\n",
              "        vertical-align: middle;\n",
              "    }\n",
              "\n",
              "    .dataframe tbody tr th {\n",
              "        vertical-align: top;\n",
              "    }\n",
              "\n",
              "    .dataframe thead th {\n",
              "        text-align: right;\n",
              "    }\n",
              "</style>\n",
              "<table border=\"1\" class=\"dataframe\">\n",
              "  <thead>\n",
              "    <tr style=\"text-align: right;\">\n",
              "      <th></th>\n",
              "      <th>Gender</th>\n",
              "      <th>Year of Studying</th>\n",
              "      <th>Operating time per day</th>\n",
              "      <th>Reason</th>\n",
              "      <th>Category</th>\n",
              "      <th>Device</th>\n",
              "      <th>Alone/Friend</th>\n",
              "      <th>Cluster</th>\n",
              "    </tr>\n",
              "  </thead>\n",
              "  <tbody>\n",
              "    <tr>\n",
              "      <th>0</th>\n",
              "      <td>0</td>\n",
              "      <td>4</td>\n",
              "      <td>3</td>\n",
              "      <td>0</td>\n",
              "      <td>7</td>\n",
              "      <td>2</td>\n",
              "      <td>1</td>\n",
              "      <td>0</td>\n",
              "    </tr>\n",
              "    <tr>\n",
              "      <th>1</th>\n",
              "      <td>0</td>\n",
              "      <td>3</td>\n",
              "      <td>0</td>\n",
              "      <td>1</td>\n",
              "      <td>4</td>\n",
              "      <td>0</td>\n",
              "      <td>1</td>\n",
              "      <td>0</td>\n",
              "    </tr>\n",
              "    <tr>\n",
              "      <th>2</th>\n",
              "      <td>0</td>\n",
              "      <td>4</td>\n",
              "      <td>2</td>\n",
              "      <td>1</td>\n",
              "      <td>8</td>\n",
              "      <td>2</td>\n",
              "      <td>0</td>\n",
              "      <td>0</td>\n",
              "    </tr>\n",
              "    <tr>\n",
              "      <th>3</th>\n",
              "      <td>1</td>\n",
              "      <td>1</td>\n",
              "      <td>4</td>\n",
              "      <td>1</td>\n",
              "      <td>5</td>\n",
              "      <td>2</td>\n",
              "      <td>0</td>\n",
              "      <td>1</td>\n",
              "    </tr>\n",
              "    <tr>\n",
              "      <th>4</th>\n",
              "      <td>1</td>\n",
              "      <td>4</td>\n",
              "      <td>4</td>\n",
              "      <td>1</td>\n",
              "      <td>3</td>\n",
              "      <td>1</td>\n",
              "      <td>0</td>\n",
              "      <td>1</td>\n",
              "    </tr>\n",
              "    <tr>\n",
              "      <th>...</th>\n",
              "      <td>...</td>\n",
              "      <td>...</td>\n",
              "      <td>...</td>\n",
              "      <td>...</td>\n",
              "      <td>...</td>\n",
              "      <td>...</td>\n",
              "      <td>...</td>\n",
              "      <td>...</td>\n",
              "    </tr>\n",
              "    <tr>\n",
              "      <th>112</th>\n",
              "      <td>2</td>\n",
              "      <td>2</td>\n",
              "      <td>1</td>\n",
              "      <td>0</td>\n",
              "      <td>0</td>\n",
              "      <td>2</td>\n",
              "      <td>1</td>\n",
              "      <td>2</td>\n",
              "    </tr>\n",
              "    <tr>\n",
              "      <th>113</th>\n",
              "      <td>2</td>\n",
              "      <td>4</td>\n",
              "      <td>4</td>\n",
              "      <td>2</td>\n",
              "      <td>0</td>\n",
              "      <td>1</td>\n",
              "      <td>1</td>\n",
              "      <td>1</td>\n",
              "    </tr>\n",
              "    <tr>\n",
              "      <th>114</th>\n",
              "      <td>0</td>\n",
              "      <td>1</td>\n",
              "      <td>5</td>\n",
              "      <td>0</td>\n",
              "      <td>7</td>\n",
              "      <td>1</td>\n",
              "      <td>0</td>\n",
              "      <td>3</td>\n",
              "    </tr>\n",
              "    <tr>\n",
              "      <th>115</th>\n",
              "      <td>0</td>\n",
              "      <td>4</td>\n",
              "      <td>2</td>\n",
              "      <td>1</td>\n",
              "      <td>7</td>\n",
              "      <td>1</td>\n",
              "      <td>1</td>\n",
              "      <td>0</td>\n",
              "    </tr>\n",
              "    <tr>\n",
              "      <th>116</th>\n",
              "      <td>0</td>\n",
              "      <td>4</td>\n",
              "      <td>1</td>\n",
              "      <td>0</td>\n",
              "      <td>0</td>\n",
              "      <td>2</td>\n",
              "      <td>1</td>\n",
              "      <td>2</td>\n",
              "    </tr>\n",
              "  </tbody>\n",
              "</table>\n",
              "<p>117 rows × 8 columns</p>\n",
              "</div>\n",
              "      <button class=\"colab-df-convert\" onclick=\"convertToInteractive('df-70ec0305-faed-432e-a87a-75878943cf16')\"\n",
              "              title=\"Convert this dataframe to an interactive table.\"\n",
              "              style=\"display:none;\">\n",
              "        \n",
              "  <svg xmlns=\"http://www.w3.org/2000/svg\" height=\"24px\"viewBox=\"0 0 24 24\"\n",
              "       width=\"24px\">\n",
              "    <path d=\"M0 0h24v24H0V0z\" fill=\"none\"/>\n",
              "    <path d=\"M18.56 5.44l.94 2.06.94-2.06 2.06-.94-2.06-.94-.94-2.06-.94 2.06-2.06.94zm-11 1L8.5 8.5l.94-2.06 2.06-.94-2.06-.94L8.5 2.5l-.94 2.06-2.06.94zm10 10l.94 2.06.94-2.06 2.06-.94-2.06-.94-.94-2.06-.94 2.06-2.06.94z\"/><path d=\"M17.41 7.96l-1.37-1.37c-.4-.4-.92-.59-1.43-.59-.52 0-1.04.2-1.43.59L10.3 9.45l-7.72 7.72c-.78.78-.78 2.05 0 2.83L4 21.41c.39.39.9.59 1.41.59.51 0 1.02-.2 1.41-.59l7.78-7.78 2.81-2.81c.8-.78.8-2.07 0-2.86zM5.41 20L4 18.59l7.72-7.72 1.47 1.35L5.41 20z\"/>\n",
              "  </svg>\n",
              "      </button>\n",
              "      \n",
              "  <style>\n",
              "    .colab-df-container {\n",
              "      display:flex;\n",
              "      flex-wrap:wrap;\n",
              "      gap: 12px;\n",
              "    }\n",
              "\n",
              "    .colab-df-convert {\n",
              "      background-color: #E8F0FE;\n",
              "      border: none;\n",
              "      border-radius: 50%;\n",
              "      cursor: pointer;\n",
              "      display: none;\n",
              "      fill: #1967D2;\n",
              "      height: 32px;\n",
              "      padding: 0 0 0 0;\n",
              "      width: 32px;\n",
              "    }\n",
              "\n",
              "    .colab-df-convert:hover {\n",
              "      background-color: #E2EBFA;\n",
              "      box-shadow: 0px 1px 2px rgba(60, 64, 67, 0.3), 0px 1px 3px 1px rgba(60, 64, 67, 0.15);\n",
              "      fill: #174EA6;\n",
              "    }\n",
              "\n",
              "    [theme=dark] .colab-df-convert {\n",
              "      background-color: #3B4455;\n",
              "      fill: #D2E3FC;\n",
              "    }\n",
              "\n",
              "    [theme=dark] .colab-df-convert:hover {\n",
              "      background-color: #434B5C;\n",
              "      box-shadow: 0px 1px 3px 1px rgba(0, 0, 0, 0.15);\n",
              "      filter: drop-shadow(0px 1px 2px rgba(0, 0, 0, 0.3));\n",
              "      fill: #FFFFFF;\n",
              "    }\n",
              "  </style>\n",
              "\n",
              "      <script>\n",
              "        const buttonEl =\n",
              "          document.querySelector('#df-70ec0305-faed-432e-a87a-75878943cf16 button.colab-df-convert');\n",
              "        buttonEl.style.display =\n",
              "          google.colab.kernel.accessAllowed ? 'block' : 'none';\n",
              "\n",
              "        async function convertToInteractive(key) {\n",
              "          const element = document.querySelector('#df-70ec0305-faed-432e-a87a-75878943cf16');\n",
              "          const dataTable =\n",
              "            await google.colab.kernel.invokeFunction('convertToInteractive',\n",
              "                                                     [key], {});\n",
              "          if (!dataTable) return;\n",
              "\n",
              "          const docLinkHtml = 'Like what you see? Visit the ' +\n",
              "            '<a target=\"_blank\" href=https://colab.research.google.com/notebooks/data_table.ipynb>data table notebook</a>'\n",
              "            + ' to learn more about interactive tables.';\n",
              "          element.innerHTML = '';\n",
              "          dataTable['output_type'] = 'display_data';\n",
              "          await google.colab.output.renderOutput(dataTable, element);\n",
              "          const docLink = document.createElement('div');\n",
              "          docLink.innerHTML = docLinkHtml;\n",
              "          element.appendChild(docLink);\n",
              "        }\n",
              "      </script>\n",
              "    </div>\n",
              "  </div>\n",
              "  "
            ]
          },
          "metadata": {},
          "execution_count": 41
        }
      ]
    },
    {
      "cell_type": "code",
      "source": [
        "result_df = df.groupby(['Cluster'])\n",
        "result_df.head(100)"
      ],
      "metadata": {
        "id": "9HdwomuvOEgV",
        "colab": {
          "base_uri": "https://localhost:8080/",
          "height": 424
        },
        "outputId": "79e6ff4c-f7a9-4ccb-a0a4-a0f05530ed77"
      },
      "execution_count": null,
      "outputs": [
        {
          "output_type": "execute_result",
          "data": {
            "text/plain": [
              "     Gender  Year of Studying  Operating time per day  Reason  Category  \\\n",
              "0         0                 4                       3       0         7   \n",
              "1         0                 3                       0       1         4   \n",
              "2         0                 4                       2       1         8   \n",
              "3         1                 1                       4       1         5   \n",
              "4         1                 4                       4       1         3   \n",
              "..      ...               ...                     ...     ...       ...   \n",
              "112       2                 2                       1       0         0   \n",
              "113       2                 4                       4       2         0   \n",
              "114       0                 1                       5       0         7   \n",
              "115       0                 4                       2       1         7   \n",
              "116       0                 4                       1       0         0   \n",
              "\n",
              "     Device  Alone/Friend  Cluster  \n",
              "0         2             1        0  \n",
              "1         0             1        0  \n",
              "2         2             0        0  \n",
              "3         2             0        1  \n",
              "4         1             0        1  \n",
              "..      ...           ...      ...  \n",
              "112       2             1        2  \n",
              "113       1             1        1  \n",
              "114       1             0        3  \n",
              "115       1             1        0  \n",
              "116       2             1        2  \n",
              "\n",
              "[117 rows x 8 columns]"
            ],
            "text/html": [
              "\n",
              "  <div id=\"df-85d7e4b7-2730-42a1-acc4-42415d5200a0\">\n",
              "    <div class=\"colab-df-container\">\n",
              "      <div>\n",
              "<style scoped>\n",
              "    .dataframe tbody tr th:only-of-type {\n",
              "        vertical-align: middle;\n",
              "    }\n",
              "\n",
              "    .dataframe tbody tr th {\n",
              "        vertical-align: top;\n",
              "    }\n",
              "\n",
              "    .dataframe thead th {\n",
              "        text-align: right;\n",
              "    }\n",
              "</style>\n",
              "<table border=\"1\" class=\"dataframe\">\n",
              "  <thead>\n",
              "    <tr style=\"text-align: right;\">\n",
              "      <th></th>\n",
              "      <th>Gender</th>\n",
              "      <th>Year of Studying</th>\n",
              "      <th>Operating time per day</th>\n",
              "      <th>Reason</th>\n",
              "      <th>Category</th>\n",
              "      <th>Device</th>\n",
              "      <th>Alone/Friend</th>\n",
              "      <th>Cluster</th>\n",
              "    </tr>\n",
              "  </thead>\n",
              "  <tbody>\n",
              "    <tr>\n",
              "      <th>0</th>\n",
              "      <td>0</td>\n",
              "      <td>4</td>\n",
              "      <td>3</td>\n",
              "      <td>0</td>\n",
              "      <td>7</td>\n",
              "      <td>2</td>\n",
              "      <td>1</td>\n",
              "      <td>0</td>\n",
              "    </tr>\n",
              "    <tr>\n",
              "      <th>1</th>\n",
              "      <td>0</td>\n",
              "      <td>3</td>\n",
              "      <td>0</td>\n",
              "      <td>1</td>\n",
              "      <td>4</td>\n",
              "      <td>0</td>\n",
              "      <td>1</td>\n",
              "      <td>0</td>\n",
              "    </tr>\n",
              "    <tr>\n",
              "      <th>2</th>\n",
              "      <td>0</td>\n",
              "      <td>4</td>\n",
              "      <td>2</td>\n",
              "      <td>1</td>\n",
              "      <td>8</td>\n",
              "      <td>2</td>\n",
              "      <td>0</td>\n",
              "      <td>0</td>\n",
              "    </tr>\n",
              "    <tr>\n",
              "      <th>3</th>\n",
              "      <td>1</td>\n",
              "      <td>1</td>\n",
              "      <td>4</td>\n",
              "      <td>1</td>\n",
              "      <td>5</td>\n",
              "      <td>2</td>\n",
              "      <td>0</td>\n",
              "      <td>1</td>\n",
              "    </tr>\n",
              "    <tr>\n",
              "      <th>4</th>\n",
              "      <td>1</td>\n",
              "      <td>4</td>\n",
              "      <td>4</td>\n",
              "      <td>1</td>\n",
              "      <td>3</td>\n",
              "      <td>1</td>\n",
              "      <td>0</td>\n",
              "      <td>1</td>\n",
              "    </tr>\n",
              "    <tr>\n",
              "      <th>...</th>\n",
              "      <td>...</td>\n",
              "      <td>...</td>\n",
              "      <td>...</td>\n",
              "      <td>...</td>\n",
              "      <td>...</td>\n",
              "      <td>...</td>\n",
              "      <td>...</td>\n",
              "      <td>...</td>\n",
              "    </tr>\n",
              "    <tr>\n",
              "      <th>112</th>\n",
              "      <td>2</td>\n",
              "      <td>2</td>\n",
              "      <td>1</td>\n",
              "      <td>0</td>\n",
              "      <td>0</td>\n",
              "      <td>2</td>\n",
              "      <td>1</td>\n",
              "      <td>2</td>\n",
              "    </tr>\n",
              "    <tr>\n",
              "      <th>113</th>\n",
              "      <td>2</td>\n",
              "      <td>4</td>\n",
              "      <td>4</td>\n",
              "      <td>2</td>\n",
              "      <td>0</td>\n",
              "      <td>1</td>\n",
              "      <td>1</td>\n",
              "      <td>1</td>\n",
              "    </tr>\n",
              "    <tr>\n",
              "      <th>114</th>\n",
              "      <td>0</td>\n",
              "      <td>1</td>\n",
              "      <td>5</td>\n",
              "      <td>0</td>\n",
              "      <td>7</td>\n",
              "      <td>1</td>\n",
              "      <td>0</td>\n",
              "      <td>3</td>\n",
              "    </tr>\n",
              "    <tr>\n",
              "      <th>115</th>\n",
              "      <td>0</td>\n",
              "      <td>4</td>\n",
              "      <td>2</td>\n",
              "      <td>1</td>\n",
              "      <td>7</td>\n",
              "      <td>1</td>\n",
              "      <td>1</td>\n",
              "      <td>0</td>\n",
              "    </tr>\n",
              "    <tr>\n",
              "      <th>116</th>\n",
              "      <td>0</td>\n",
              "      <td>4</td>\n",
              "      <td>1</td>\n",
              "      <td>0</td>\n",
              "      <td>0</td>\n",
              "      <td>2</td>\n",
              "      <td>1</td>\n",
              "      <td>2</td>\n",
              "    </tr>\n",
              "  </tbody>\n",
              "</table>\n",
              "<p>117 rows × 8 columns</p>\n",
              "</div>\n",
              "      <button class=\"colab-df-convert\" onclick=\"convertToInteractive('df-85d7e4b7-2730-42a1-acc4-42415d5200a0')\"\n",
              "              title=\"Convert this dataframe to an interactive table.\"\n",
              "              style=\"display:none;\">\n",
              "        \n",
              "  <svg xmlns=\"http://www.w3.org/2000/svg\" height=\"24px\"viewBox=\"0 0 24 24\"\n",
              "       width=\"24px\">\n",
              "    <path d=\"M0 0h24v24H0V0z\" fill=\"none\"/>\n",
              "    <path d=\"M18.56 5.44l.94 2.06.94-2.06 2.06-.94-2.06-.94-.94-2.06-.94 2.06-2.06.94zm-11 1L8.5 8.5l.94-2.06 2.06-.94-2.06-.94L8.5 2.5l-.94 2.06-2.06.94zm10 10l.94 2.06.94-2.06 2.06-.94-2.06-.94-.94-2.06-.94 2.06-2.06.94z\"/><path d=\"M17.41 7.96l-1.37-1.37c-.4-.4-.92-.59-1.43-.59-.52 0-1.04.2-1.43.59L10.3 9.45l-7.72 7.72c-.78.78-.78 2.05 0 2.83L4 21.41c.39.39.9.59 1.41.59.51 0 1.02-.2 1.41-.59l7.78-7.78 2.81-2.81c.8-.78.8-2.07 0-2.86zM5.41 20L4 18.59l7.72-7.72 1.47 1.35L5.41 20z\"/>\n",
              "  </svg>\n",
              "      </button>\n",
              "      \n",
              "  <style>\n",
              "    .colab-df-container {\n",
              "      display:flex;\n",
              "      flex-wrap:wrap;\n",
              "      gap: 12px;\n",
              "    }\n",
              "\n",
              "    .colab-df-convert {\n",
              "      background-color: #E8F0FE;\n",
              "      border: none;\n",
              "      border-radius: 50%;\n",
              "      cursor: pointer;\n",
              "      display: none;\n",
              "      fill: #1967D2;\n",
              "      height: 32px;\n",
              "      padding: 0 0 0 0;\n",
              "      width: 32px;\n",
              "    }\n",
              "\n",
              "    .colab-df-convert:hover {\n",
              "      background-color: #E2EBFA;\n",
              "      box-shadow: 0px 1px 2px rgba(60, 64, 67, 0.3), 0px 1px 3px 1px rgba(60, 64, 67, 0.15);\n",
              "      fill: #174EA6;\n",
              "    }\n",
              "\n",
              "    [theme=dark] .colab-df-convert {\n",
              "      background-color: #3B4455;\n",
              "      fill: #D2E3FC;\n",
              "    }\n",
              "\n",
              "    [theme=dark] .colab-df-convert:hover {\n",
              "      background-color: #434B5C;\n",
              "      box-shadow: 0px 1px 3px 1px rgba(0, 0, 0, 0.15);\n",
              "      filter: drop-shadow(0px 1px 2px rgba(0, 0, 0, 0.3));\n",
              "      fill: #FFFFFF;\n",
              "    }\n",
              "  </style>\n",
              "\n",
              "      <script>\n",
              "        const buttonEl =\n",
              "          document.querySelector('#df-85d7e4b7-2730-42a1-acc4-42415d5200a0 button.colab-df-convert');\n",
              "        buttonEl.style.display =\n",
              "          google.colab.kernel.accessAllowed ? 'block' : 'none';\n",
              "\n",
              "        async function convertToInteractive(key) {\n",
              "          const element = document.querySelector('#df-85d7e4b7-2730-42a1-acc4-42415d5200a0');\n",
              "          const dataTable =\n",
              "            await google.colab.kernel.invokeFunction('convertToInteractive',\n",
              "                                                     [key], {});\n",
              "          if (!dataTable) return;\n",
              "\n",
              "          const docLinkHtml = 'Like what you see? Visit the ' +\n",
              "            '<a target=\"_blank\" href=https://colab.research.google.com/notebooks/data_table.ipynb>data table notebook</a>'\n",
              "            + ' to learn more about interactive tables.';\n",
              "          element.innerHTML = '';\n",
              "          dataTable['output_type'] = 'display_data';\n",
              "          await google.colab.output.renderOutput(dataTable, element);\n",
              "          const docLink = document.createElement('div');\n",
              "          docLink.innerHTML = docLinkHtml;\n",
              "          element.appendChild(docLink);\n",
              "        }\n",
              "      </script>\n",
              "    </div>\n",
              "  </div>\n",
              "  "
            ]
          },
          "metadata": {},
          "execution_count": 42
        }
      ]
    },
    {
      "cell_type": "code",
      "source": [
        "df = df.values\n",
        "_plot_kmean_scatter(result_df, y_AgglomerativeX)"
      ],
      "metadata": {
        "id": "92-q85KaZ6a4",
        "colab": {
          "base_uri": "https://localhost:8080/",
          "height": 305
        },
        "outputId": "4e6a309e-b2c4-4e6f-cf58-8b9a7020ccc6"
      },
      "execution_count": null,
      "outputs": [
        {
          "output_type": "error",
          "ename": "AttributeError",
          "evalue": "ignored",
          "traceback": [
            "\u001b[0;31m---------------------------------------------------------------------------\u001b[0m",
            "\u001b[0;31mAttributeError\u001b[0m                            Traceback (most recent call last)",
            "\u001b[0;32m<ipython-input-46-e6aa650b99a5>\u001b[0m in \u001b[0;36m<module>\u001b[0;34m\u001b[0m\n\u001b[1;32m      1\u001b[0m \u001b[0;31m# df = df.values\u001b[0m\u001b[0;34m\u001b[0m\u001b[0;34m\u001b[0m\u001b[0;34m\u001b[0m\u001b[0m\n\u001b[0;32m----> 2\u001b[0;31m \u001b[0m_plot_kmean_scatter\u001b[0m\u001b[0;34m(\u001b[0m\u001b[0mresult_df\u001b[0m\u001b[0;34m.\u001b[0m\u001b[0miloc\u001b[0m\u001b[0;34m[\u001b[0m\u001b[0;36m0\u001b[0m\u001b[0;34m,\u001b[0m \u001b[0;36m1\u001b[0m\u001b[0;34m]\u001b[0m\u001b[0;34m,\u001b[0m \u001b[0my_AgglomerativeX\u001b[0m\u001b[0;34m)\u001b[0m\u001b[0;34m\u001b[0m\u001b[0;34m\u001b[0m\u001b[0m\n\u001b[0m",
            "\u001b[0;32m/usr/local/lib/python3.8/dist-packages/pandas/core/groupby/groupby.py\u001b[0m in \u001b[0;36m__getattr__\u001b[0;34m(self, attr)\u001b[0m\n\u001b[1;32m    909\u001b[0m             \u001b[0;32mreturn\u001b[0m \u001b[0mself\u001b[0m\u001b[0;34m[\u001b[0m\u001b[0mattr\u001b[0m\u001b[0;34m]\u001b[0m\u001b[0;34m\u001b[0m\u001b[0;34m\u001b[0m\u001b[0m\n\u001b[1;32m    910\u001b[0m \u001b[0;34m\u001b[0m\u001b[0m\n\u001b[0;32m--> 911\u001b[0;31m         raise AttributeError(\n\u001b[0m\u001b[1;32m    912\u001b[0m             \u001b[0;34mf\"'{type(self).__name__}' object has no attribute '{attr}'\"\u001b[0m\u001b[0;34m\u001b[0m\u001b[0;34m\u001b[0m\u001b[0m\n\u001b[1;32m    913\u001b[0m         )\n",
            "\u001b[0;31mAttributeError\u001b[0m: 'DataFrameGroupBy' object has no attribute 'iloc'"
          ]
        }
      ]
    }
  ]
}